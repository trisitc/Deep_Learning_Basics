{
  "nbformat": 4,
  "nbformat_minor": 0,
  "metadata": {
    "colab": {
      "name": "ANN-Basic Implementation with Keras.ipynb",
      "provenance": [],
      "authorship_tag": "ABX9TyPi5sjH6Akut84PFgwmRR6W",
      "include_colab_link": true
    },
    "kernelspec": {
      "name": "python3",
      "display_name": "Python 3"
    },
    "language_info": {
      "name": "python"
    }
  },
  "cells": [
    {
      "cell_type": "markdown",
      "metadata": {
        "id": "view-in-github",
        "colab_type": "text"
      },
      "source": [
        "<a href=\"https://colab.research.google.com/github/trisitc/Deep_Learning_Basics/blob/main/ANN_Basic_Implementation_with_Keras.ipynb\" target=\"_parent\"><img src=\"https://colab.research.google.com/assets/colab-badge.svg\" alt=\"Open In Colab\"/></a>"
      ]
    },
    {
      "cell_type": "markdown",
      "metadata": {
        "id": "B8E18jQjzJSh"
      },
      "source": [
        "### What is MAKE MOONS DATASET\n",
        "#### The make_moons dataset is a swirl pattern, or two moons. It is a set of points in 2D making two interleaving half circles. It displays 2 disjunctive clusters of data in a 2-dimensional representation space ( with coordinates x1 and x2 for two features). The areas are formed like 2 moon crescents as shown in the figure below."
      ]
    },
    {
      "cell_type": "markdown",
      "metadata": {
        "id": "pu3vwEEizXtT"
      },
      "source": [
        "### IMPORTING LIBRARIES"
      ]
    },
    {
      "cell_type": "code",
      "metadata": {
        "id": "6mfgxRXzxvYk"
      },
      "source": [
        "from sklearn import datasets  \n",
        "import numpy as np  \n",
        "import matplotlib.pyplot as plt\n",
        "from sklearn.model_selection import train_test_split"
      ],
      "execution_count": 5,
      "outputs": []
    },
    {
      "cell_type": "markdown",
      "metadata": {
        "id": "W02K75ahzQTl"
      },
      "source": [
        "* numpy is used for scientific computing with Python. It is one of the fundamental packages you will use. \n",
        "* Matplotlib library is used in Python for plotting graphs. The datasets package is the place from where you will import the make moons dataset. \n",
        "* Sklearn library is used fo scientific computing. It has many features related to classification, regression and clustering algorithms including support vector machines."
      ]
    },
    {
      "cell_type": "markdown",
      "metadata": {
        "id": "1eOhSCkR54F5"
      },
      "source": [
        "### INITIALIZING THE DATASET"
      ]
    },
    {
      "cell_type": "code",
      "metadata": {
        "id": "UIPRfM5_xjXW"
      },
      "source": [
        "np.random.seed(0)\n",
        "feature_set_x, labels_y = datasets.make_moons(100, noise=0.10)\n",
        "X_train, X_test, y_train, y_test = train_test_split(feature_set_x, labels_y, test_size=0.33, random_state=42)"
      ],
      "execution_count": 6,
      "outputs": []
    },
    {
      "cell_type": "markdown",
      "metadata": {
        "id": "icY2M8n06TZi"
      },
      "source": [
        "In the script above we import the datasets class from the sklearn library. To create non-linear dataset of 100 data-points, we use the make_moons method and pass it 100 as the first parameter. The method returns a dataset, which when plotted contains two interleaving half circles. Data cannot be separated by a single straight line, hence the perceptron cannot be used to correctly classify make moons dataset."
      ]
    },
    {
      "cell_type": "code",
      "metadata": {
        "id": "kYwdkafVxudx"
      },
      "source": [
        "from keras.models import Sequential"
      ],
      "execution_count": 7,
      "outputs": []
    },
    {
      "cell_type": "code",
      "metadata": {
        "id": "uCtthiCOy4nw"
      },
      "source": [
        "model = Sequential()"
      ],
      "execution_count": 8,
      "outputs": []
    },
    {
      "cell_type": "markdown",
      "metadata": {
        "id": "dGdCGk5L6Yg7"
      },
      "source": [
        "Basically there are two types of models in Keras. Sequential and Functional.\n",
        "\n",
        "The sequential API is generally used and helps in creating the models layer-by-layer for most problems. It is constrained in that it does not allow us to create models that share layers or have multiple inputs or outputs.\n",
        "\n",
        "The functional API helps in creating models that have a lot more flexibility as we can easily define models where layers connect to more than just the previous and next layers. In fact, we can connect layers to any other layer. As a result, creating complex networks become possible."
      ]
    },
    {
      "cell_type": "code",
      "metadata": {
        "id": "vDbezlz-y7jg"
      },
      "source": [
        "from keras.layers import Dense, Activation"
      ],
      "execution_count": 9,
      "outputs": []
    },
    {
      "cell_type": "markdown",
      "metadata": {
        "id": "jA2qbjrl6jCt"
      },
      "source": [
        "A dense layer is a Layer in which Each Input Neuron is connected to the output Neuron, like a Simple neural net, the parameters units just tells you the dimensionnality of your Output."
      ]
    },
    {
      "cell_type": "code",
      "metadata": {
        "id": "-kiV51toy-qX"
      },
      "source": [
        "model.add(Dense(50, input_dim=2, activation='relu'))\n",
        "model.add(Dense(1, activation='sigmoid'))"
      ],
      "execution_count": 10,
      "outputs": []
    },
    {
      "cell_type": "markdown",
      "metadata": {
        "id": "VgroBN9O6szF"
      },
      "source": [
        "For example if you say Dense(50, input_dim = 2..) this means that input neurons having dimension of 2 i.e 2 input neurons are connected to dense layer having 50 neurons and at each of the neuron in dense layer is applying activation function as relu for computing the output of that neuron. These 50 neurons in the hidden layer are then connected to one neuron in the output layer with activation function of sigmoid."
      ]
    },
    {
      "cell_type": "code",
      "metadata": {
        "id": "VLDSZ7EkzCBe"
      },
      "source": [
        "model.compile(loss='binary_crossentropy', optimizer='adam', metrics= ['accuracy'])"
      ],
      "execution_count": 11,
      "outputs": []
    },
    {
      "cell_type": "markdown",
      "metadata": {
        "id": "GqSub5l560E3"
      },
      "source": [
        "The output that we are trying to predict is having 2 classes therefore we are using ‘Binary Crossentropy’ loss function. Adam is a replacement optimization algorithm for stochastic gradient descent for training deep learning models. Adam combines the best properties of the AdaGrad and RMSProp algorithms to provide an optimization algorithm that can handle sparse gradients on noisy problems."
      ]
    },
    {
      "cell_type": "code",
      "metadata": {
        "colab": {
          "base_uri": "https://localhost:8080/"
        },
        "id": "PtP7iDB56ykV",
        "outputId": "34045891-3f7b-45b9-adb8-e3ec11c682db"
      },
      "source": [
        "print(model.summary())"
      ],
      "execution_count": 12,
      "outputs": [
        {
          "output_type": "stream",
          "text": [
            "Model: \"sequential\"\n",
            "_________________________________________________________________\n",
            "Layer (type)                 Output Shape              Param #   \n",
            "=================================================================\n",
            "dense (Dense)                (None, 50)                150       \n",
            "_________________________________________________________________\n",
            "dense_1 (Dense)              (None, 1)                 51        \n",
            "=================================================================\n",
            "Total params: 201\n",
            "Trainable params: 201\n",
            "Non-trainable params: 0\n",
            "_________________________________________________________________\n",
            "None\n"
          ],
          "name": "stdout"
        }
      ]
    },
    {
      "cell_type": "markdown",
      "metadata": {
        "id": "7KvJ7EoY61ll"
      },
      "source": [
        "The model summary gives the number of parameters input to the model. Theare are total 201 parameters including the parameters from the bias unit. The two input units and one bias unit are fed via connection links to 50 neurons totaling 150 parameters, there after the hidden layer is connected to the 1 output and 1 bias unit also is connected to output neuron. Thus the computation of the paraters will be 150(Input, bias unit to hidden layer with 50 neurons) + 50(hidden layer to output) + 1 (bias unit in the output) = 201."
      ]
    },
    {
      "cell_type": "markdown",
      "metadata": {
        "id": "gYWMpDM-7Nlr"
      },
      "source": [
        "### TRAIN AND EVALUATE THE MODEL"
      ]
    },
    {
      "cell_type": "code",
      "metadata": {
        "colab": {
          "base_uri": "https://localhost:8080/"
        },
        "id": "gLe5kBnv7QU7",
        "outputId": "d6ca88be-c961-4b6d-f68b-f73ef7b9d3cd"
      },
      "source": [
        "results = model.fit(x=X_train, y=y_train , epochs=100)"
      ],
      "execution_count": 16,
      "outputs": [
        {
          "output_type": "stream",
          "text": [
            "Epoch 1/100\n",
            "3/3 [==============================] - 0s 3ms/step - loss: 0.3012 - accuracy: 0.8806\n",
            "Epoch 2/100\n",
            "3/3 [==============================] - 0s 3ms/step - loss: 0.3000 - accuracy: 0.8806\n",
            "Epoch 3/100\n",
            "3/3 [==============================] - 0s 3ms/step - loss: 0.2987 - accuracy: 0.8806\n",
            "Epoch 4/100\n",
            "3/3 [==============================] - 0s 3ms/step - loss: 0.2976 - accuracy: 0.8806\n",
            "Epoch 5/100\n",
            "3/3 [==============================] - 0s 4ms/step - loss: 0.2963 - accuracy: 0.8806\n",
            "Epoch 6/100\n",
            "3/3 [==============================] - 0s 5ms/step - loss: 0.2949 - accuracy: 0.8806\n",
            "Epoch 7/100\n",
            "3/3 [==============================] - 0s 4ms/step - loss: 0.2937 - accuracy: 0.8806\n",
            "Epoch 8/100\n",
            "3/3 [==============================] - 0s 4ms/step - loss: 0.2924 - accuracy: 0.8806\n",
            "Epoch 9/100\n",
            "3/3 [==============================] - 0s 4ms/step - loss: 0.2909 - accuracy: 0.8806\n",
            "Epoch 10/100\n",
            "3/3 [==============================] - 0s 4ms/step - loss: 0.2896 - accuracy: 0.8806\n",
            "Epoch 11/100\n",
            "3/3 [==============================] - 0s 4ms/step - loss: 0.2884 - accuracy: 0.8806\n",
            "Epoch 12/100\n",
            "3/3 [==============================] - 0s 4ms/step - loss: 0.2871 - accuracy: 0.8806\n",
            "Epoch 13/100\n",
            "3/3 [==============================] - 0s 3ms/step - loss: 0.2858 - accuracy: 0.8806\n",
            "Epoch 14/100\n",
            "3/3 [==============================] - 0s 4ms/step - loss: 0.2846 - accuracy: 0.8806\n",
            "Epoch 15/100\n",
            "3/3 [==============================] - 0s 5ms/step - loss: 0.2836 - accuracy: 0.8806\n",
            "Epoch 16/100\n",
            "3/3 [==============================] - 0s 3ms/step - loss: 0.2824 - accuracy: 0.8806\n",
            "Epoch 17/100\n",
            "3/3 [==============================] - 0s 4ms/step - loss: 0.2815 - accuracy: 0.8806\n",
            "Epoch 18/100\n",
            "3/3 [==============================] - 0s 5ms/step - loss: 0.2812 - accuracy: 0.8806\n",
            "Epoch 19/100\n",
            "3/3 [==============================] - 0s 5ms/step - loss: 0.2802 - accuracy: 0.8806\n",
            "Epoch 20/100\n",
            "3/3 [==============================] - 0s 5ms/step - loss: 0.2794 - accuracy: 0.8806\n",
            "Epoch 21/100\n",
            "3/3 [==============================] - 0s 4ms/step - loss: 0.2790 - accuracy: 0.8806\n",
            "Epoch 22/100\n",
            "3/3 [==============================] - 0s 4ms/step - loss: 0.2783 - accuracy: 0.8806\n",
            "Epoch 23/100\n",
            "3/3 [==============================] - 0s 4ms/step - loss: 0.2776 - accuracy: 0.8806\n",
            "Epoch 24/100\n",
            "3/3 [==============================] - 0s 8ms/step - loss: 0.2767 - accuracy: 0.8806\n",
            "Epoch 25/100\n",
            "3/3 [==============================] - 0s 5ms/step - loss: 0.2758 - accuracy: 0.8806\n",
            "Epoch 26/100\n",
            "3/3 [==============================] - 0s 7ms/step - loss: 0.2748 - accuracy: 0.8806\n",
            "Epoch 27/100\n",
            "3/3 [==============================] - 0s 4ms/step - loss: 0.2738 - accuracy: 0.8806\n",
            "Epoch 28/100\n",
            "3/3 [==============================] - 0s 6ms/step - loss: 0.2731 - accuracy: 0.8806\n",
            "Epoch 29/100\n",
            "3/3 [==============================] - 0s 3ms/step - loss: 0.2721 - accuracy: 0.8806\n",
            "Epoch 30/100\n",
            "3/3 [==============================] - 0s 4ms/step - loss: 0.2710 - accuracy: 0.8806\n",
            "Epoch 31/100\n",
            "3/3 [==============================] - 0s 4ms/step - loss: 0.2699 - accuracy: 0.8806\n",
            "Epoch 32/100\n",
            "3/3 [==============================] - 0s 4ms/step - loss: 0.2691 - accuracy: 0.8806\n",
            "Epoch 33/100\n",
            "3/3 [==============================] - 0s 8ms/step - loss: 0.2681 - accuracy: 0.8806\n",
            "Epoch 34/100\n",
            "3/3 [==============================] - 0s 4ms/step - loss: 0.2673 - accuracy: 0.8806\n",
            "Epoch 35/100\n",
            "3/3 [==============================] - 0s 3ms/step - loss: 0.2664 - accuracy: 0.8806\n",
            "Epoch 36/100\n",
            "3/3 [==============================] - 0s 4ms/step - loss: 0.2655 - accuracy: 0.8806\n",
            "Epoch 37/100\n",
            "3/3 [==============================] - 0s 4ms/step - loss: 0.2653 - accuracy: 0.8806\n",
            "Epoch 38/100\n",
            "3/3 [==============================] - 0s 4ms/step - loss: 0.2644 - accuracy: 0.8806\n",
            "Epoch 39/100\n",
            "3/3 [==============================] - 0s 4ms/step - loss: 0.2638 - accuracy: 0.8806\n",
            "Epoch 40/100\n",
            "3/3 [==============================] - 0s 4ms/step - loss: 0.2632 - accuracy: 0.8806\n",
            "Epoch 41/100\n",
            "3/3 [==============================] - 0s 5ms/step - loss: 0.2627 - accuracy: 0.8806\n",
            "Epoch 42/100\n",
            "3/3 [==============================] - 0s 5ms/step - loss: 0.2620 - accuracy: 0.8955\n",
            "Epoch 43/100\n",
            "3/3 [==============================] - 0s 5ms/step - loss: 0.2614 - accuracy: 0.8955\n",
            "Epoch 44/100\n",
            "3/3 [==============================] - 0s 3ms/step - loss: 0.2608 - accuracy: 0.8955\n",
            "Epoch 45/100\n",
            "3/3 [==============================] - 0s 3ms/step - loss: 0.2601 - accuracy: 0.8955\n",
            "Epoch 46/100\n",
            "3/3 [==============================] - 0s 5ms/step - loss: 0.2593 - accuracy: 0.8955\n",
            "Epoch 47/100\n",
            "3/3 [==============================] - 0s 3ms/step - loss: 0.2587 - accuracy: 0.8955\n",
            "Epoch 48/100\n",
            "3/3 [==============================] - 0s 4ms/step - loss: 0.2578 - accuracy: 0.8955\n",
            "Epoch 49/100\n",
            "3/3 [==============================] - 0s 6ms/step - loss: 0.2572 - accuracy: 0.8955\n",
            "Epoch 50/100\n",
            "3/3 [==============================] - 0s 4ms/step - loss: 0.2565 - accuracy: 0.8955\n",
            "Epoch 51/100\n",
            "3/3 [==============================] - 0s 4ms/step - loss: 0.2557 - accuracy: 0.8955\n",
            "Epoch 52/100\n",
            "3/3 [==============================] - 0s 3ms/step - loss: 0.2555 - accuracy: 0.8955\n",
            "Epoch 53/100\n",
            "3/3 [==============================] - 0s 4ms/step - loss: 0.2548 - accuracy: 0.8955\n",
            "Epoch 54/100\n",
            "3/3 [==============================] - 0s 3ms/step - loss: 0.2541 - accuracy: 0.8955\n",
            "Epoch 55/100\n",
            "3/3 [==============================] - 0s 3ms/step - loss: 0.2536 - accuracy: 0.8955\n",
            "Epoch 56/100\n",
            "3/3 [==============================] - 0s 3ms/step - loss: 0.2531 - accuracy: 0.8955\n",
            "Epoch 57/100\n",
            "3/3 [==============================] - 0s 3ms/step - loss: 0.2527 - accuracy: 0.8955\n",
            "Epoch 58/100\n",
            "3/3 [==============================] - 0s 5ms/step - loss: 0.2521 - accuracy: 0.8955\n",
            "Epoch 59/100\n",
            "3/3 [==============================] - 0s 3ms/step - loss: 0.2516 - accuracy: 0.8955\n",
            "Epoch 60/100\n",
            "3/3 [==============================] - 0s 5ms/step - loss: 0.2512 - accuracy: 0.8955\n",
            "Epoch 61/100\n",
            "3/3 [==============================] - 0s 4ms/step - loss: 0.2506 - accuracy: 0.8955\n",
            "Epoch 62/100\n",
            "3/3 [==============================] - 0s 7ms/step - loss: 0.2501 - accuracy: 0.8955\n",
            "Epoch 63/100\n",
            "3/3 [==============================] - 0s 4ms/step - loss: 0.2501 - accuracy: 0.8955\n",
            "Epoch 64/100\n",
            "3/3 [==============================] - 0s 5ms/step - loss: 0.2494 - accuracy: 0.8955\n",
            "Epoch 65/100\n",
            "3/3 [==============================] - 0s 6ms/step - loss: 0.2488 - accuracy: 0.8955\n",
            "Epoch 66/100\n",
            "3/3 [==============================] - 0s 4ms/step - loss: 0.2484 - accuracy: 0.8955\n",
            "Epoch 67/100\n",
            "3/3 [==============================] - 0s 4ms/step - loss: 0.2476 - accuracy: 0.8955\n",
            "Epoch 68/100\n",
            "3/3 [==============================] - 0s 5ms/step - loss: 0.2472 - accuracy: 0.8955\n",
            "Epoch 69/100\n",
            "3/3 [==============================] - 0s 5ms/step - loss: 0.2468 - accuracy: 0.8955\n",
            "Epoch 70/100\n",
            "3/3 [==============================] - 0s 6ms/step - loss: 0.2467 - accuracy: 0.8955\n",
            "Epoch 71/100\n",
            "3/3 [==============================] - 0s 4ms/step - loss: 0.2462 - accuracy: 0.8955\n",
            "Epoch 72/100\n",
            "3/3 [==============================] - 0s 4ms/step - loss: 0.2460 - accuracy: 0.8955\n",
            "Epoch 73/100\n",
            "3/3 [==============================] - 0s 5ms/step - loss: 0.2457 - accuracy: 0.8955\n",
            "Epoch 74/100\n",
            "3/3 [==============================] - 0s 5ms/step - loss: 0.2454 - accuracy: 0.8955\n",
            "Epoch 75/100\n",
            "3/3 [==============================] - 0s 4ms/step - loss: 0.2448 - accuracy: 0.8955\n",
            "Epoch 76/100\n",
            "3/3 [==============================] - 0s 5ms/step - loss: 0.2442 - accuracy: 0.8955\n",
            "Epoch 77/100\n",
            "3/3 [==============================] - 0s 4ms/step - loss: 0.2433 - accuracy: 0.8955\n",
            "Epoch 78/100\n",
            "3/3 [==============================] - 0s 3ms/step - loss: 0.2425 - accuracy: 0.8955\n",
            "Epoch 79/100\n",
            "3/3 [==============================] - 0s 5ms/step - loss: 0.2420 - accuracy: 0.9104\n",
            "Epoch 80/100\n",
            "3/3 [==============================] - 0s 5ms/step - loss: 0.2414 - accuracy: 0.9104\n",
            "Epoch 81/100\n",
            "3/3 [==============================] - 0s 8ms/step - loss: 0.2409 - accuracy: 0.9104\n",
            "Epoch 82/100\n",
            "3/3 [==============================] - 0s 4ms/step - loss: 0.2408 - accuracy: 0.9104\n",
            "Epoch 83/100\n",
            "3/3 [==============================] - 0s 6ms/step - loss: 0.2401 - accuracy: 0.9104\n",
            "Epoch 84/100\n",
            "3/3 [==============================] - 0s 5ms/step - loss: 0.2402 - accuracy: 0.9104\n",
            "Epoch 85/100\n",
            "3/3 [==============================] - 0s 5ms/step - loss: 0.2398 - accuracy: 0.9104\n",
            "Epoch 86/100\n",
            "3/3 [==============================] - 0s 5ms/step - loss: 0.2393 - accuracy: 0.9104\n",
            "Epoch 87/100\n",
            "3/3 [==============================] - 0s 3ms/step - loss: 0.2389 - accuracy: 0.9104\n",
            "Epoch 88/100\n",
            "3/3 [==============================] - 0s 5ms/step - loss: 0.2384 - accuracy: 0.9104\n",
            "Epoch 89/100\n",
            "3/3 [==============================] - 0s 3ms/step - loss: 0.2381 - accuracy: 0.9104\n",
            "Epoch 90/100\n",
            "3/3 [==============================] - 0s 4ms/step - loss: 0.2377 - accuracy: 0.9104\n",
            "Epoch 91/100\n",
            "3/3 [==============================] - 0s 6ms/step - loss: 0.2374 - accuracy: 0.9104\n",
            "Epoch 92/100\n",
            "3/3 [==============================] - 0s 4ms/step - loss: 0.2369 - accuracy: 0.9104\n",
            "Epoch 93/100\n",
            "3/3 [==============================] - 0s 8ms/step - loss: 0.2365 - accuracy: 0.9104\n",
            "Epoch 94/100\n",
            "3/3 [==============================] - 0s 7ms/step - loss: 0.2362 - accuracy: 0.9104\n",
            "Epoch 95/100\n",
            "3/3 [==============================] - 0s 4ms/step - loss: 0.2357 - accuracy: 0.9104\n",
            "Epoch 96/100\n",
            "3/3 [==============================] - 0s 5ms/step - loss: 0.2356 - accuracy: 0.9104\n",
            "Epoch 97/100\n",
            "3/3 [==============================] - 0s 5ms/step - loss: 0.2354 - accuracy: 0.9104\n",
            "Epoch 98/100\n",
            "3/3 [==============================] - 0s 6ms/step - loss: 0.2352 - accuracy: 0.9104\n",
            "Epoch 99/100\n",
            "3/3 [==============================] - 0s 6ms/step - loss: 0.2354 - accuracy: 0.9104\n",
            "Epoch 100/100\n",
            "3/3 [==============================] - 0s 3ms/step - loss: 0.2349 - accuracy: 0.9104\n"
          ],
          "name": "stdout"
        }
      ]
    },
    {
      "cell_type": "markdown",
      "metadata": {
        "id": "08vx_lPW7NhS"
      },
      "source": [
        "Once the model is compiled then we use the training data to train the model via the fit function having parameters such as features set and the target label and number of iterations. Once the training is complete we evaluate the model to determine the loss and the accuracy."
      ]
    },
    {
      "cell_type": "code",
      "metadata": {
        "colab": {
          "base_uri": "https://localhost:8080/"
        },
        "id": "4uC6k9pB8WqQ",
        "outputId": "5044c788-d49a-4741-fb63-860f2b5c9f64"
      },
      "source": [
        "score = model.evaluate(X_test, y_test, verbose=0)\n",
        "print('Test score:', score[0])\n",
        "## Test score: 0.30231634956417663\n",
        "print('Test accuracy:', score[1])\n",
        "## Test accuracy: 0.8787878751754761"
      ],
      "execution_count": 17,
      "outputs": [
        {
          "output_type": "stream",
          "text": [
            "Test score: 0.2777257561683655\n",
            "Test accuracy: 0.8181818127632141\n"
          ],
          "name": "stdout"
        }
      ]
    },
    {
      "cell_type": "markdown",
      "metadata": {
        "id": "UnWwnh_j7Myn"
      },
      "source": [
        "The lower the loss, the better a model (unless the model has over-fitted to the training data). The loss is calculated on training and validation and its interpretation is how well the model is doing for these two sets. Unlike accuracy, loss is not a percentage. It is a summation of the errors made for each example in training or validation sets.\n",
        "\n",
        "The accuracy of a model is usually determined after the model parameters are learned and fixed and no learning is taking place. Then the test samples are fed to the model and the number of mistakes (zero-one loss) the model makes are recorded, after comparison to the true targets. Then the percentage of miss classification is calculated.\n",
        "\n",
        "For example, if the number of test samples is 1000 and model classifies 875 of those correctly, then the model’s accuracy is 87.5%."
      ]
    },
    {
      "cell_type": "markdown",
      "metadata": {
        "id": "wf5i2um28mFj"
      },
      "source": [
        "### EVALUATE PREDICTION ACCURACY"
      ]
    },
    {
      "cell_type": "code",
      "metadata": {
        "colab": {
          "base_uri": "https://localhost:8080/"
        },
        "id": "0hka8tgZ8g4s",
        "outputId": "4412d75f-a2ee-4379-f644-cea2599f5cdc"
      },
      "source": [
        "from sklearn import metrics\n",
        "prediction_values = model.predict_classes(X_test)\n",
        "print(metrics.confusion_matrix(y_test, prediction_values))\n",
        "## [[14  2]\n",
        "##  [ 2 15]]\n",
        "print(metrics.classification_report(y_test, prediction_values))"
      ],
      "execution_count": 18,
      "outputs": [
        {
          "output_type": "stream",
          "text": [
            "[[12  4]\n",
            " [ 2 15]]\n",
            "              precision    recall  f1-score   support\n",
            "\n",
            "           0       0.86      0.75      0.80        16\n",
            "           1       0.79      0.88      0.83        17\n",
            "\n",
            "    accuracy                           0.82        33\n",
            "   macro avg       0.82      0.82      0.82        33\n",
            "weighted avg       0.82      0.82      0.82        33\n",
            "\n"
          ],
          "name": "stdout"
        },
        {
          "output_type": "stream",
          "text": [
            "/usr/local/lib/python3.7/dist-packages/tensorflow/python/keras/engine/sequential.py:450: UserWarning: `model.predict_classes()` is deprecated and will be removed after 2021-01-01. Please use instead:* `np.argmax(model.predict(x), axis=-1)`,   if your model does multi-class classification   (e.g. if it uses a `softmax` last-layer activation).* `(model.predict(x) > 0.5).astype(\"int32\")`,   if your model does binary classification   (e.g. if it uses a `sigmoid` last-layer activation).\n",
            "  warnings.warn('`model.predict_classes()` is deprecated and '\n"
          ],
          "name": "stderr"
        }
      ]
    },
    {
      "cell_type": "markdown",
      "metadata": {
        "id": "uxvCWaxs8yw9"
      },
      "source": [
        "Classification report is used to evaluate a model’s predictive power. It provides Precision, Recall,F1-score,Support that will help in evaluating the model.\n",
        "\n",
        "We can see here that on average the model has predicted 88% of the classification correctly.For Class 0 it has predicted 88% of the test data correctly.\n",
        "\n",
        "Classification_report is also useful when comparing two models with different specifications against each other and determining which model is better to use."
      ]
    }
  ]
}