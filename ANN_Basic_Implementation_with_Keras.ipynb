{
  "nbformat": 4,
  "nbformat_minor": 0,
  "metadata": {
    "colab": {
      "name": "ANN-Basic Implementation with Keras.ipynb",
      "provenance": [],
      "authorship_tag": "ABX9TyNOD1J7iQFGqFtsacTSwfPH",
      "include_colab_link": true
    },
    "kernelspec": {
      "name": "python3",
      "display_name": "Python 3"
    },
    "language_info": {
      "name": "python"
    }
  },
  "cells": [
    {
      "cell_type": "markdown",
      "metadata": {
        "id": "view-in-github",
        "colab_type": "text"
      },
      "source": [
        "<a href=\"https://colab.research.google.com/github/trisitc/Deep_Learning_Basics/blob/main/ANN_Basic_Implementation_with_Keras.ipynb\" target=\"_parent\"><img src=\"https://colab.research.google.com/assets/colab-badge.svg\" alt=\"Open In Colab\"/></a>"
      ]
    },
    {
      "cell_type": "markdown",
      "metadata": {
        "id": "B8E18jQjzJSh"
      },
      "source": [
        "### What is MAKE MOONS DATASET\n",
        "#### The make_moons dataset is a swirl pattern, or two moons. It is a set of points in 2D making two interleaving half circles. It displays 2 disjunctive clusters of data in a 2-dimensional representation space ( with coordinates x1 and x2 for two features). The areas are formed like 2 moon crescents as shown in the figure below."
      ]
    },
    {
      "cell_type": "markdown",
      "metadata": {
        "id": "pu3vwEEizXtT"
      },
      "source": [
        "### IMPORTING LIBRARIES"
      ]
    },
    {
      "cell_type": "code",
      "metadata": {
        "id": "6mfgxRXzxvYk"
      },
      "source": [
        "from sklearn import datasets  \n",
        "import numpy as np  \n",
        "import matplotlib.pyplot as plt\n",
        "from sklearn.model_selection import train_test_split"
      ],
      "execution_count": 20,
      "outputs": []
    },
    {
      "cell_type": "markdown",
      "metadata": {
        "id": "W02K75ahzQTl"
      },
      "source": [
        "* numpy is used for scientific computing with Python. It is one of the fundamental packages you will use. \n",
        "* Matplotlib library is used in Python for plotting graphs. The datasets package is the place from where you will import the make moons dataset. \n",
        "* Sklearn library is used fo scientific computing. It has many features related to classification, regression and clustering algorithms including support vector machines."
      ]
    },
    {
      "cell_type": "markdown",
      "metadata": {
        "id": "1eOhSCkR54F5"
      },
      "source": [
        "### INITIALIZING THE DATASET"
      ]
    },
    {
      "cell_type": "code",
      "metadata": {
        "id": "UIPRfM5_xjXW"
      },
      "source": [
        "np.random.seed(0)\n",
        "feature_set_x, labels_y = datasets.make_moons(100, noise=0.10)\n",
        "X_train, X_test, y_train, y_test = train_test_split(feature_set_x, labels_y, test_size=0.33, random_state=42)"
      ],
      "execution_count": 21,
      "outputs": []
    },
    {
      "cell_type": "markdown",
      "metadata": {
        "id": "icY2M8n06TZi"
      },
      "source": [
        "In the script above we import the datasets class from the sklearn library. To create non-linear dataset of 100 data-points, we use the make_moons method and pass it 100 as the first parameter. The method returns a dataset, which when plotted contains two interleaving half circles. Data cannot be separated by a single straight line, hence the perceptron cannot be used to correctly classify make moons dataset."
      ]
    },
    {
      "cell_type": "code",
      "metadata": {
        "id": "kYwdkafVxudx"
      },
      "source": [
        "from keras.models import Sequential"
      ],
      "execution_count": 22,
      "outputs": []
    },
    {
      "cell_type": "code",
      "metadata": {
        "id": "uCtthiCOy4nw"
      },
      "source": [
        "model = Sequential()"
      ],
      "execution_count": 23,
      "outputs": []
    },
    {
      "cell_type": "markdown",
      "metadata": {
        "id": "dGdCGk5L6Yg7"
      },
      "source": [
        "Basically there are two types of models in Keras. Sequential and Functional.\n",
        "\n",
        "The sequential API is generally used and helps in creating the models layer-by-layer for most problems. It is constrained in that it does not allow us to create models that share layers or have multiple inputs or outputs.\n",
        "\n",
        "The functional API helps in creating models that have a lot more flexibility as we can easily define models where layers connect to more than just the previous and next layers. In fact, we can connect layers to any other layer. As a result, creating complex networks become possible."
      ]
    },
    {
      "cell_type": "code",
      "metadata": {
        "id": "vDbezlz-y7jg"
      },
      "source": [
        "from keras.layers import Dense, Activation"
      ],
      "execution_count": 24,
      "outputs": []
    },
    {
      "cell_type": "markdown",
      "metadata": {
        "id": "jA2qbjrl6jCt"
      },
      "source": [
        "A dense layer is a Layer in which Each Input Neuron is connected to the output Neuron, like a Simple neural net, the parameters units just tells you the dimensionnality of your Output."
      ]
    },
    {
      "cell_type": "code",
      "metadata": {
        "id": "-kiV51toy-qX"
      },
      "source": [
        "model.add(Dense(50, input_dim=2, activation='relu'))\n",
        "model.add(Dense(1, activation='sigmoid'))"
      ],
      "execution_count": 25,
      "outputs": []
    },
    {
      "cell_type": "markdown",
      "metadata": {
        "id": "VgroBN9O6szF"
      },
      "source": [
        "For example if you say Dense(50, input_dim = 2..) this means that input neurons having dimension of 2 i.e 2 input neurons are connected to dense layer having 50 neurons and at each of the neuron in dense layer is applying activation function as relu for computing the output of that neuron. These 50 neurons in the hidden layer are then connected to one neuron in the output layer with activation function of sigmoid."
      ]
    },
    {
      "cell_type": "code",
      "metadata": {
        "id": "VLDSZ7EkzCBe"
      },
      "source": [
        "model.compile(loss='binary_crossentropy', optimizer='adam', metrics= ['accuracy'])"
      ],
      "execution_count": 26,
      "outputs": []
    },
    {
      "cell_type": "markdown",
      "metadata": {
        "id": "GqSub5l560E3"
      },
      "source": [
        "The output that we are trying to predict is having 2 classes therefore we are using ‘Binary Crossentropy’ loss function. Adam is a replacement optimization algorithm for stochastic gradient descent for training deep learning models. Adam combines the best properties of the AdaGrad and RMSProp algorithms to provide an optimization algorithm that can handle sparse gradients on noisy problems."
      ]
    },
    {
      "cell_type": "code",
      "metadata": {
        "colab": {
          "base_uri": "https://localhost:8080/"
        },
        "id": "PtP7iDB56ykV",
        "outputId": "f570e621-c9e9-477c-f1b3-4db6859261e6"
      },
      "source": [
        "print(model.summary())"
      ],
      "execution_count": 27,
      "outputs": [
        {
          "output_type": "stream",
          "text": [
            "Model: \"sequential_1\"\n",
            "_________________________________________________________________\n",
            "Layer (type)                 Output Shape              Param #   \n",
            "=================================================================\n",
            "dense_2 (Dense)              (None, 50)                150       \n",
            "_________________________________________________________________\n",
            "dense_3 (Dense)              (None, 1)                 51        \n",
            "=================================================================\n",
            "Total params: 201\n",
            "Trainable params: 201\n",
            "Non-trainable params: 0\n",
            "_________________________________________________________________\n",
            "None\n"
          ],
          "name": "stdout"
        }
      ]
    },
    {
      "cell_type": "markdown",
      "metadata": {
        "id": "7KvJ7EoY61ll"
      },
      "source": [
        "The model summary gives the number of parameters input to the model. Theare are total 201 parameters including the parameters from the bias unit. The two input units and one bias unit are fed via connection links to 50 neurons totaling 150 parameters, there after the hidden layer is connected to the 1 output and 1 bias unit also is connected to output neuron. Thus the computation of the paraters will be 150(Input, bias unit to hidden layer with 50 neurons) + 50(hidden layer to output) + 1 (bias unit in the output) = 201."
      ]
    },
    {
      "cell_type": "markdown",
      "metadata": {
        "id": "gYWMpDM-7Nlr"
      },
      "source": [
        "### TRAIN AND EVALUATE THE MODEL"
      ]
    },
    {
      "cell_type": "code",
      "metadata": {
        "id": "gLe5kBnv7QU7"
      },
      "source": [
        "results = model.fit(x=X_train, y=y_train , epochs=100, verbose=0)"
      ],
      "execution_count": 28,
      "outputs": []
    },
    {
      "cell_type": "markdown",
      "metadata": {
        "id": "08vx_lPW7NhS"
      },
      "source": [
        "Once the model is compiled then we use the training data to train the model via the fit function having parameters such as features set and the target label and number of iterations. Once the training is complete we evaluate the model to determine the loss and the accuracy."
      ]
    },
    {
      "cell_type": "code",
      "metadata": {
        "colab": {
          "base_uri": "https://localhost:8080/"
        },
        "id": "4uC6k9pB8WqQ",
        "outputId": "9f5384e0-9e93-4ebe-e082-c2ca6e014d65"
      },
      "source": [
        "score = model.evaluate(X_test, y_test, verbose=0)\n",
        "print('Test score:', score[0])\n",
        "## Test score: 0.30231634956417663\n",
        "print('Test accuracy:', score[1])\n",
        "## Test accuracy: 0.8787878751754761"
      ],
      "execution_count": 29,
      "outputs": [
        {
          "output_type": "stream",
          "text": [
            "Test score: 0.3017427921295166\n",
            "Test accuracy: 0.8787878751754761\n"
          ],
          "name": "stdout"
        }
      ]
    },
    {
      "cell_type": "markdown",
      "metadata": {
        "id": "UnWwnh_j7Myn"
      },
      "source": [
        "The lower the loss, the better a model (unless the model has over-fitted to the training data). The loss is calculated on training and validation and its interpretation is how well the model is doing for these two sets. Unlike accuracy, loss is not a percentage. It is a summation of the errors made for each example in training or validation sets.\n",
        "\n",
        "The accuracy of a model is usually determined after the model parameters are learned and fixed and no learning is taking place. Then the test samples are fed to the model and the number of mistakes (zero-one loss) the model makes are recorded, after comparison to the true targets. Then the percentage of miss classification is calculated.\n",
        "\n",
        "For example, if the number of test samples is 1000 and model classifies 875 of those correctly, then the model’s accuracy is 87.5%."
      ]
    },
    {
      "cell_type": "markdown",
      "metadata": {
        "id": "wf5i2um28mFj"
      },
      "source": [
        "### EVALUATE PREDICTION ACCURACY"
      ]
    },
    {
      "cell_type": "code",
      "metadata": {
        "colab": {
          "base_uri": "https://localhost:8080/"
        },
        "id": "0hka8tgZ8g4s",
        "outputId": "1959b37a-4317-4dcc-ec46-1b877dc9cfce"
      },
      "source": [
        "from sklearn import metrics\n",
        "prediction_values = model.predict_classes(X_test)\n",
        "print(metrics.confusion_matrix(y_test, prediction_values))\n",
        "## [[14  2]\n",
        "##  [ 2 15]]\n",
        "print(metrics.classification_report(y_test, prediction_values))"
      ],
      "execution_count": 30,
      "outputs": [
        {
          "output_type": "stream",
          "text": [
            "[[14  2]\n",
            " [ 2 15]]\n",
            "              precision    recall  f1-score   support\n",
            "\n",
            "           0       0.88      0.88      0.88        16\n",
            "           1       0.88      0.88      0.88        17\n",
            "\n",
            "    accuracy                           0.88        33\n",
            "   macro avg       0.88      0.88      0.88        33\n",
            "weighted avg       0.88      0.88      0.88        33\n",
            "\n"
          ],
          "name": "stdout"
        },
        {
          "output_type": "stream",
          "text": [
            "/usr/local/lib/python3.7/dist-packages/tensorflow/python/keras/engine/sequential.py:450: UserWarning: `model.predict_classes()` is deprecated and will be removed after 2021-01-01. Please use instead:* `np.argmax(model.predict(x), axis=-1)`,   if your model does multi-class classification   (e.g. if it uses a `softmax` last-layer activation).* `(model.predict(x) > 0.5).astype(\"int32\")`,   if your model does binary classification   (e.g. if it uses a `sigmoid` last-layer activation).\n",
            "  warnings.warn('`model.predict_classes()` is deprecated and '\n"
          ],
          "name": "stderr"
        }
      ]
    },
    {
      "cell_type": "markdown",
      "metadata": {
        "id": "uxvCWaxs8yw9"
      },
      "source": [
        "Classification report is used to evaluate a model’s predictive power. It provides Precision, Recall,F1-score,Support that will help in evaluating the model.\n",
        "\n",
        "We can see here that on average the model has predicted 88% of the classification correctly.For Class 0 it has predicted 88% of the test data correctly.\n",
        "\n",
        "Classification_report is also useful when comparing two models with different specifications against each other and determining which model is better to use."
      ]
    }
  ]
}