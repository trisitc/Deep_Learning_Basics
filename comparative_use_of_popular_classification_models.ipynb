{
  "nbformat": 4,
  "nbformat_minor": 5,
  "metadata": {
    "kernelspec": {
      "display_name": "Python 3",
      "language": "python",
      "name": "python3"
    },
    "language_info": {
      "codemirror_mode": {
        "name": "ipython",
        "version": 3
      },
      "file_extension": ".py",
      "mimetype": "text/x-python",
      "name": "python",
      "nbconvert_exporter": "python",
      "pygments_lexer": "ipython3",
      "version": "3.7.10"
    },
    "papermill": {
      "default_parameters": {},
      "duration": 1483.495853,
      "end_time": "2021-05-02T23:43:27.469354",
      "environment_variables": {},
      "exception": null,
      "input_path": "__notebook__.ipynb",
      "output_path": "__notebook__.ipynb",
      "parameters": {},
      "start_time": "2021-05-02T23:18:43.973501",
      "version": "2.3.3"
    },
    "colab": {
      "name": "comparative-use-of-popular-classification-models.ipynb",
      "provenance": [],
      "toc_visible": true,
      "include_colab_link": true
    }
  },
  "cells": [
    {
      "cell_type": "markdown",
      "metadata": {
        "id": "view-in-github",
        "colab_type": "text"
      },
      "source": [
        "<a href=\"https://colab.research.google.com/github/trisitc/Deep_Learning_Basics/blob/main/comparative_use_of_popular_classification_models.ipynb\" target=\"_parent\"><img src=\"https://colab.research.google.com/assets/colab-badge.svg\" alt=\"Open In Colab\"/></a>"
      ]
    },
    {
      "cell_type": "code",
      "metadata": {
        "colab": {
          "base_uri": "https://localhost:8080/"
        },
        "id": "K3TjsnlcSZ87",
        "outputId": "846b059a-8ffa-4d42-f39e-4421ccfa7023"
      },
      "source": [
        "from google.colab import drive\n",
        "drive.mount('/content/drive')"
      ],
      "id": "K3TjsnlcSZ87",
      "execution_count": 4,
      "outputs": [
        {
          "output_type": "stream",
          "text": [
            "Drive already mounted at /content/drive; to attempt to forcibly remount, call drive.mount(\"/content/drive\", force_remount=True).\n"
          ],
          "name": "stdout"
        }
      ]
    },
    {
      "cell_type": "code",
      "metadata": {
        "_cell_guid": "b1076dfc-b9ad-4769-8c92-a6c4dae69d19",
        "_uuid": "8f2839f25d086af736a60e9eeb907d3b93b6e0e5",
        "execution": {
          "iopub.execute_input": "2021-05-02T23:18:52.076060Z",
          "iopub.status.busy": "2021-05-02T23:18:52.075006Z",
          "iopub.status.idle": "2021-05-02T23:18:52.126559Z",
          "shell.execute_reply": "2021-05-02T23:18:52.127154Z"
        },
        "papermill": {
          "duration": 0.085083,
          "end_time": "2021-05-02T23:18:52.127448",
          "exception": false,
          "start_time": "2021-05-02T23:18:52.042365",
          "status": "completed"
        },
        "tags": [],
        "id": "stretch-bride"
      },
      "source": [
        "# This Python 3 environment comes with many helpful analytics libraries installed\n",
        "# It is defined by the kaggle/python Docker image: https://github.com/kaggle/docker-python\n",
        "# For example, here's several helpful packages to load\n",
        "\n",
        "import numpy as np # linear algebra\n",
        "import pandas as pd # data processing, CSV file I/O (e.g. pd.read_csv)\n",
        "\n",
        "# Input data files are available in the read-only \"../input/\" directory\n",
        "# For example, running this (by clicking run or pressing Shift+Enter) will list all files under the input directory\n",
        "\n",
        "import os\n",
        "# for dirname, _, filenames in os.walk('/kaggle/input'):\n",
        "#     for filename in filenames:\n",
        "#         print(os.path.join(dirname, filename))\n",
        "\n",
        "# You can write up to 20GB to the current directory (/kaggle/working/) that gets preserved as output when you create a version using \"Save & Run All\" \n",
        "# You can also write temporary files to /kaggle/temp/, but they won't be saved outside of the current session"
      ],
      "id": "stretch-bride",
      "execution_count": 2,
      "outputs": []
    },
    {
      "cell_type": "code",
      "metadata": {
        "execution": {
          "iopub.execute_input": "2021-05-02T23:18:52.188701Z",
          "iopub.status.busy": "2021-05-02T23:18:52.188109Z",
          "iopub.status.idle": "2021-05-02T23:18:53.161461Z",
          "shell.execute_reply": "2021-05-02T23:18:53.161954Z"
        },
        "papermill": {
          "duration": 1.004992,
          "end_time": "2021-05-02T23:18:53.162151",
          "exception": false,
          "start_time": "2021-05-02T23:18:52.157159",
          "status": "completed"
        },
        "tags": [],
        "id": "macro-journalist"
      },
      "source": [
        "import matplotlib.pyplot as plt\n",
        "import seaborn as sns"
      ],
      "id": "macro-journalist",
      "execution_count": 3,
      "outputs": []
    },
    {
      "cell_type": "markdown",
      "metadata": {
        "papermill": {
          "duration": 0.027638,
          "end_time": "2021-05-02T23:18:53.217895",
          "exception": false,
          "start_time": "2021-05-02T23:18:53.190257",
          "status": "completed"
        },
        "tags": [],
        "id": "diverse-alliance"
      },
      "source": [
        "## A. Exploratory Data Analysis"
      ],
      "id": "diverse-alliance"
    },
    {
      "cell_type": "code",
      "metadata": {
        "execution": {
          "iopub.execute_input": "2021-05-02T23:18:53.277323Z",
          "iopub.status.busy": "2021-05-02T23:18:53.276646Z",
          "iopub.status.idle": "2021-05-02T23:18:53.313523Z",
          "shell.execute_reply": "2021-05-02T23:18:53.313968Z"
        },
        "papermill": {
          "duration": 0.068146,
          "end_time": "2021-05-02T23:18:53.314152",
          "exception": false,
          "start_time": "2021-05-02T23:18:53.246006",
          "status": "completed"
        },
        "tags": [],
        "colab": {
          "base_uri": "https://localhost:8080/",
          "height": 419
        },
        "id": "hispanic-technical",
        "outputId": "6f4c582f-3013-41ce-8c71-0db398d917b6"
      },
      "source": [
        "df= pd.read_csv(\"/content/drive/MyDrive/input/Social_Network_Ads.csv\")\n",
        "df"
      ],
      "id": "hispanic-technical",
      "execution_count": 5,
      "outputs": [
        {
          "output_type": "execute_result",
          "data": {
            "text/html": [
              "<div>\n",
              "<style scoped>\n",
              "    .dataframe tbody tr th:only-of-type {\n",
              "        vertical-align: middle;\n",
              "    }\n",
              "\n",
              "    .dataframe tbody tr th {\n",
              "        vertical-align: top;\n",
              "    }\n",
              "\n",
              "    .dataframe thead th {\n",
              "        text-align: right;\n",
              "    }\n",
              "</style>\n",
              "<table border=\"1\" class=\"dataframe\">\n",
              "  <thead>\n",
              "    <tr style=\"text-align: right;\">\n",
              "      <th></th>\n",
              "      <th>Age</th>\n",
              "      <th>EstimatedSalary</th>\n",
              "      <th>Purchased</th>\n",
              "    </tr>\n",
              "  </thead>\n",
              "  <tbody>\n",
              "    <tr>\n",
              "      <th>0</th>\n",
              "      <td>19</td>\n",
              "      <td>19000</td>\n",
              "      <td>0</td>\n",
              "    </tr>\n",
              "    <tr>\n",
              "      <th>1</th>\n",
              "      <td>35</td>\n",
              "      <td>20000</td>\n",
              "      <td>0</td>\n",
              "    </tr>\n",
              "    <tr>\n",
              "      <th>2</th>\n",
              "      <td>26</td>\n",
              "      <td>43000</td>\n",
              "      <td>0</td>\n",
              "    </tr>\n",
              "    <tr>\n",
              "      <th>3</th>\n",
              "      <td>27</td>\n",
              "      <td>57000</td>\n",
              "      <td>0</td>\n",
              "    </tr>\n",
              "    <tr>\n",
              "      <th>4</th>\n",
              "      <td>19</td>\n",
              "      <td>76000</td>\n",
              "      <td>0</td>\n",
              "    </tr>\n",
              "    <tr>\n",
              "      <th>...</th>\n",
              "      <td>...</td>\n",
              "      <td>...</td>\n",
              "      <td>...</td>\n",
              "    </tr>\n",
              "    <tr>\n",
              "      <th>395</th>\n",
              "      <td>46</td>\n",
              "      <td>41000</td>\n",
              "      <td>1</td>\n",
              "    </tr>\n",
              "    <tr>\n",
              "      <th>396</th>\n",
              "      <td>51</td>\n",
              "      <td>23000</td>\n",
              "      <td>1</td>\n",
              "    </tr>\n",
              "    <tr>\n",
              "      <th>397</th>\n",
              "      <td>50</td>\n",
              "      <td>20000</td>\n",
              "      <td>1</td>\n",
              "    </tr>\n",
              "    <tr>\n",
              "      <th>398</th>\n",
              "      <td>36</td>\n",
              "      <td>33000</td>\n",
              "      <td>0</td>\n",
              "    </tr>\n",
              "    <tr>\n",
              "      <th>399</th>\n",
              "      <td>49</td>\n",
              "      <td>36000</td>\n",
              "      <td>1</td>\n",
              "    </tr>\n",
              "  </tbody>\n",
              "</table>\n",
              "<p>400 rows × 3 columns</p>\n",
              "</div>"
            ],
            "text/plain": [
              "     Age  EstimatedSalary  Purchased\n",
              "0     19            19000          0\n",
              "1     35            20000          0\n",
              "2     26            43000          0\n",
              "3     27            57000          0\n",
              "4     19            76000          0\n",
              "..   ...              ...        ...\n",
              "395   46            41000          1\n",
              "396   51            23000          1\n",
              "397   50            20000          1\n",
              "398   36            33000          0\n",
              "399   49            36000          1\n",
              "\n",
              "[400 rows x 3 columns]"
            ]
          },
          "metadata": {
            "tags": []
          },
          "execution_count": 5
        }
      ]
    },
    {
      "cell_type": "code",
      "metadata": {
        "execution": {
          "iopub.execute_input": "2021-05-02T23:18:53.377225Z",
          "iopub.status.busy": "2021-05-02T23:18:53.376106Z",
          "iopub.status.idle": "2021-05-02T23:18:53.388380Z",
          "shell.execute_reply": "2021-05-02T23:18:53.389052Z"
        },
        "papermill": {
          "duration": 0.046452,
          "end_time": "2021-05-02T23:18:53.389227",
          "exception": false,
          "start_time": "2021-05-02T23:18:53.342775",
          "status": "completed"
        },
        "tags": [],
        "colab": {
          "base_uri": "https://localhost:8080/",
          "height": 142
        },
        "id": "convinced-massage",
        "outputId": "f98825d0-bfa0-4f07-9d36-8e92b81b3d50"
      },
      "source": [
        "df.corr() # Lets look at statistical correlation\n",
        "#There is positive high correlation between Age and Purchased items"
      ],
      "id": "convinced-massage",
      "execution_count": 6,
      "outputs": [
        {
          "output_type": "execute_result",
          "data": {
            "text/html": [
              "<div>\n",
              "<style scoped>\n",
              "    .dataframe tbody tr th:only-of-type {\n",
              "        vertical-align: middle;\n",
              "    }\n",
              "\n",
              "    .dataframe tbody tr th {\n",
              "        vertical-align: top;\n",
              "    }\n",
              "\n",
              "    .dataframe thead th {\n",
              "        text-align: right;\n",
              "    }\n",
              "</style>\n",
              "<table border=\"1\" class=\"dataframe\">\n",
              "  <thead>\n",
              "    <tr style=\"text-align: right;\">\n",
              "      <th></th>\n",
              "      <th>Age</th>\n",
              "      <th>EstimatedSalary</th>\n",
              "      <th>Purchased</th>\n",
              "    </tr>\n",
              "  </thead>\n",
              "  <tbody>\n",
              "    <tr>\n",
              "      <th>Age</th>\n",
              "      <td>1.000000</td>\n",
              "      <td>0.155238</td>\n",
              "      <td>0.622454</td>\n",
              "    </tr>\n",
              "    <tr>\n",
              "      <th>EstimatedSalary</th>\n",
              "      <td>0.155238</td>\n",
              "      <td>1.000000</td>\n",
              "      <td>0.362083</td>\n",
              "    </tr>\n",
              "    <tr>\n",
              "      <th>Purchased</th>\n",
              "      <td>0.622454</td>\n",
              "      <td>0.362083</td>\n",
              "      <td>1.000000</td>\n",
              "    </tr>\n",
              "  </tbody>\n",
              "</table>\n",
              "</div>"
            ],
            "text/plain": [
              "                      Age  EstimatedSalary  Purchased\n",
              "Age              1.000000         0.155238   0.622454\n",
              "EstimatedSalary  0.155238         1.000000   0.362083\n",
              "Purchased        0.622454         0.362083   1.000000"
            ]
          },
          "metadata": {
            "tags": []
          },
          "execution_count": 6
        }
      ]
    },
    {
      "cell_type": "code",
      "metadata": {
        "execution": {
          "iopub.execute_input": "2021-05-02T23:18:53.458257Z",
          "iopub.status.busy": "2021-05-02T23:18:53.457371Z",
          "iopub.status.idle": "2021-05-02T23:18:53.745146Z",
          "shell.execute_reply": "2021-05-02T23:18:53.744620Z"
        },
        "papermill": {
          "duration": 0.322471,
          "end_time": "2021-05-02T23:18:53.745301",
          "exception": false,
          "start_time": "2021-05-02T23:18:53.422830",
          "status": "completed"
        },
        "tags": [],
        "colab": {
          "base_uri": "https://localhost:8080/",
          "height": 613
        },
        "id": "universal-fossil",
        "outputId": "d5c3ce37-7051-4bad-f37d-414d4747b33b"
      },
      "source": [
        "plt.figure(figsize=(15,10))\n",
        "sns.heatmap(df.corr(),cmap=\"PiYG\",annot=True)\n",
        "#here we visualize the correlations"
      ],
      "id": "universal-fossil",
      "execution_count": 8,
      "outputs": [
        {
          "output_type": "execute_result",
          "data": {
            "text/plain": [
              "<matplotlib.axes._subplots.AxesSubplot at 0x7f52a6d155d0>"
            ]
          },
          "metadata": {
            "tags": []
          },
          "execution_count": 8
        },
        {
          "output_type": "display_data",
          "data": {
            "image/png": "[encoded data removed]",
            "text/plain": [
              "<Figure size 1080x720 with 2 Axes>"
            ]
          },
          "metadata": {
            "tags": [],
            "needs_background": "light"
          }
        }
      ]
    },
    {
      "cell_type": "code",
      "metadata": {
        "execution": {
          "iopub.execute_input": "2021-05-02T23:18:53.826404Z",
          "iopub.status.busy": "2021-05-02T23:18:53.825600Z",
          "iopub.status.idle": "2021-05-02T23:18:54.469334Z",
          "shell.execute_reply": "2021-05-02T23:18:54.468825Z"
        },
        "papermill": {
          "duration": 0.692552,
          "end_time": "2021-05-02T23:18:54.469486",
          "exception": false,
          "start_time": "2021-05-02T23:18:53.776934",
          "status": "completed"
        },
        "tags": [],
        "colab": {
          "base_uri": "https://localhost:8080/",
          "height": 623
        },
        "id": "nuclear-feature",
        "outputId": "bdf833b6-c514-40b3-abf2-267202df7325"
      },
      "source": [
        "plt.figure(figsize=(15,10))\n",
        "sns.countplot(data=df, x=\"Age\",hue=\"Purchased\")\n",
        "#We can see that the effects of ads is highest between ages 26 and 40\n",
        "#Therefore these ge groups are more suitable to be target group for the commercial ads"
      ],
      "id": "nuclear-feature",
      "execution_count": 9,
      "outputs": [
        {
          "output_type": "execute_result",
          "data": {
            "text/plain": [
              "<matplotlib.axes._subplots.AxesSubplot at 0x7f52a6c92f90>"
            ]
          },
          "metadata": {
            "tags": []
          },
          "execution_count": 9
        },
        {
          "output_type": "display_data",
          "data": {
            "image/png": "[encoded data removed]",
            "text/plain": [
              "<Figure size 1080x720 with 1 Axes>"
            ]
          },
          "metadata": {
            "tags": [],
            "needs_background": "light"
          }
        }
      ]
    },
    {
      "cell_type": "code",
      "metadata": {
        "execution": {
          "iopub.execute_input": "2021-05-02T23:18:54.539639Z",
          "iopub.status.busy": "2021-05-02T23:18:54.538801Z",
          "iopub.status.idle": "2021-05-02T23:18:54.542848Z",
          "shell.execute_reply": "2021-05-02T23:18:54.542401Z"
        },
        "papermill": {
          "duration": 0.042142,
          "end_time": "2021-05-02T23:18:54.543000",
          "exception": false,
          "start_time": "2021-05-02T23:18:54.500858",
          "status": "completed"
        },
        "tags": [],
        "colab": {
          "base_uri": "https://localhost:8080/"
        },
        "id": "forbidden-facial",
        "outputId": "07333f25-611c-43bf-c34f-c49da98fed9f"
      },
      "source": [
        "df.isnull().sum() # we do not have any missing values"
      ],
      "id": "forbidden-facial",
      "execution_count": 12,
      "outputs": [
        {
          "output_type": "execute_result",
          "data": {
            "text/plain": [
              "Age                0\n",
              "EstimatedSalary    0\n",
              "Purchased          0\n",
              "dtype: int64"
            ]
          },
          "metadata": {
            "tags": []
          },
          "execution_count": 12
        }
      ]
    },
    {
      "cell_type": "code",
      "metadata": {
        "execution": {
          "iopub.execute_input": "2021-05-02T23:18:54.614552Z",
          "iopub.status.busy": "2021-05-02T23:18:54.613814Z",
          "iopub.status.idle": "2021-05-02T23:18:54.625696Z",
          "shell.execute_reply": "2021-05-02T23:18:54.626421Z"
        },
        "papermill": {
          "duration": 0.052225,
          "end_time": "2021-05-02T23:18:54.626590",
          "exception": false,
          "start_time": "2021-05-02T23:18:54.574365",
          "status": "completed"
        },
        "tags": [],
        "colab": {
          "base_uri": "https://localhost:8080/"
        },
        "id": "beautiful-driver",
        "outputId": "fdc193f3-7d23-4b91-d808-b787a9989131"
      },
      "source": [
        "df.info() # we do not have any non numerical values in the columns"
      ],
      "id": "beautiful-driver",
      "execution_count": 13,
      "outputs": [
        {
          "output_type": "stream",
          "text": [
            "<class 'pandas.core.frame.DataFrame'>\n",
            "RangeIndex: 400 entries, 0 to 399\n",
            "Data columns (total 3 columns):\n",
            " #   Column           Non-Null Count  Dtype\n",
            "---  ------           --------------  -----\n",
            " 0   Age              400 non-null    int64\n",
            " 1   EstimatedSalary  400 non-null    int64\n",
            " 2   Purchased        400 non-null    int64\n",
            "dtypes: int64(3)\n",
            "memory usage: 9.5 KB\n"
          ],
          "name": "stdout"
        }
      ]
    },
    {
      "cell_type": "markdown",
      "metadata": {
        "papermill": {
          "duration": 0.032154,
          "end_time": "2021-05-02T23:18:54.691394",
          "exception": false,
          "start_time": "2021-05-02T23:18:54.659240",
          "status": "completed"
        },
        "tags": [],
        "id": "going-latest"
      },
      "source": [
        "## B. Preparing Data For Algorithms"
      ],
      "id": "going-latest"
    },
    {
      "cell_type": "markdown",
      "metadata": {
        "papermill": {
          "duration": 0.032352,
          "end_time": "2021-05-02T23:18:54.756332",
          "exception": false,
          "start_time": "2021-05-02T23:18:54.723980",
          "status": "completed"
        },
        "tags": [],
        "id": "metric-flour"
      },
      "source": [
        "1. Splitting Data into Train and Test Sets"
      ],
      "id": "metric-flour"
    },
    {
      "cell_type": "code",
      "metadata": {
        "execution": {
          "iopub.execute_input": "2021-05-02T23:18:54.827891Z",
          "iopub.status.busy": "2021-05-02T23:18:54.826918Z",
          "iopub.status.idle": "2021-05-02T23:18:54.831822Z",
          "shell.execute_reply": "2021-05-02T23:18:54.831177Z"
        },
        "papermill": {
          "duration": 0.043439,
          "end_time": "2021-05-02T23:18:54.831971",
          "exception": false,
          "start_time": "2021-05-02T23:18:54.788532",
          "status": "completed"
        },
        "tags": [],
        "colab": {
          "base_uri": "https://localhost:8080/"
        },
        "id": "restricted-animation",
        "outputId": "15de9589-0e04-4c54-8c34-d20a1fd5478b"
      },
      "source": [
        "X = df.drop(\"Purchased\",axis=1).values\n",
        "X.shape"
      ],
      "id": "restricted-animation",
      "execution_count": 14,
      "outputs": [
        {
          "output_type": "execute_result",
          "data": {
            "text/plain": [
              "(400, 2)"
            ]
          },
          "metadata": {
            "tags": []
          },
          "execution_count": 14
        }
      ]
    },
    {
      "cell_type": "code",
      "metadata": {
        "execution": {
          "iopub.execute_input": "2021-05-02T23:18:54.903095Z",
          "iopub.status.busy": "2021-05-02T23:18:54.902216Z",
          "iopub.status.idle": "2021-05-02T23:18:54.907008Z",
          "shell.execute_reply": "2021-05-02T23:18:54.906379Z"
        },
        "papermill": {
          "duration": 0.042082,
          "end_time": "2021-05-02T23:18:54.907154",
          "exception": false,
          "start_time": "2021-05-02T23:18:54.865072",
          "status": "completed"
        },
        "tags": [],
        "colab": {
          "base_uri": "https://localhost:8080/"
        },
        "id": "designing-content",
        "outputId": "a884df3f-24c2-4ea6-d6bc-0889b177a634"
      },
      "source": [
        "y = df[\"Purchased\"].values\n",
        "y.shape"
      ],
      "id": "designing-content",
      "execution_count": 15,
      "outputs": [
        {
          "output_type": "execute_result",
          "data": {
            "text/plain": [
              "(400,)"
            ]
          },
          "metadata": {
            "tags": []
          },
          "execution_count": 15
        }
      ]
    },
    {
      "cell_type": "code",
      "metadata": {
        "execution": {
          "iopub.execute_input": "2021-05-02T23:18:54.981371Z",
          "iopub.status.busy": "2021-05-02T23:18:54.980634Z",
          "iopub.status.idle": "2021-05-02T23:18:55.332330Z",
          "shell.execute_reply": "2021-05-02T23:18:55.332898Z"
        },
        "papermill": {
          "duration": 0.393097,
          "end_time": "2021-05-02T23:18:55.333100",
          "exception": false,
          "start_time": "2021-05-02T23:18:54.940003",
          "status": "completed"
        },
        "tags": [],
        "id": "designed-soldier"
      },
      "source": [
        "from sklearn.model_selection import train_test_split\n",
        "X_train, X_test, y_train, y_test = train_test_split(X, y, test_size = 0.25, random_state = 0)"
      ],
      "id": "designed-soldier",
      "execution_count": 16,
      "outputs": []
    },
    {
      "cell_type": "markdown",
      "metadata": {
        "papermill": {
          "duration": 0.031914,
          "end_time": "2021-05-02T23:18:55.397355",
          "exception": false,
          "start_time": "2021-05-02T23:18:55.365441",
          "status": "completed"
        },
        "tags": [],
        "id": "intellectual-lloyd"
      },
      "source": [
        "2.Feature Scaling"
      ],
      "id": "intellectual-lloyd"
    },
    {
      "cell_type": "code",
      "metadata": {
        "execution": {
          "iopub.execute_input": "2021-05-02T23:18:55.469659Z",
          "iopub.status.busy": "2021-05-02T23:18:55.468702Z",
          "iopub.status.idle": "2021-05-02T23:18:55.475360Z",
          "shell.execute_reply": "2021-05-02T23:18:55.474711Z"
        },
        "papermill": {
          "duration": 0.044977,
          "end_time": "2021-05-02T23:18:55.475494",
          "exception": false,
          "start_time": "2021-05-02T23:18:55.430517",
          "status": "completed"
        },
        "tags": [],
        "colab": {
          "base_uri": "https://localhost:8080/"
        },
        "id": "exact-enzyme",
        "outputId": "3bda1f13-f53d-4065-b010-965bd8108bf5"
      },
      "source": [
        "from sklearn.preprocessing import StandardScaler\n",
        "ss= StandardScaler()\n",
        "X_train= ss.fit_transform(X_train)\n",
        "X_test= ss.transform(X_test)\n",
        "X_train[0]\n",
        "#We rescale all of the features with standart scaler which produces values between -1 and 1\n",
        "#This secures there is no value gap between features "
      ],
      "id": "exact-enzyme",
      "execution_count": 17,
      "outputs": [
        {
          "output_type": "execute_result",
          "data": {
            "text/plain": [
              "array([ 0.58164944, -0.88670699])"
            ]
          },
          "metadata": {
            "tags": []
          },
          "execution_count": 17
        }
      ]
    },
    {
      "cell_type": "markdown",
      "metadata": {
        "papermill": {
          "duration": 0.032532,
          "end_time": "2021-05-02T23:18:55.540489",
          "exception": false,
          "start_time": "2021-05-02T23:18:55.507957",
          "status": "completed"
        },
        "tags": [],
        "id": "controlled-longer"
      },
      "source": [
        "## C. Training Classification Algorithms"
      ],
      "id": "controlled-longer"
    },
    {
      "cell_type": "markdown",
      "metadata": {
        "papermill": {
          "duration": 0.033148,
          "end_time": "2021-05-02T23:18:55.606403",
          "exception": false,
          "start_time": "2021-05-02T23:18:55.573255",
          "status": "completed"
        },
        "tags": [],
        "id": "stylish-timer"
      },
      "source": [
        "## 1. Logistic Regression:"
      ],
      "id": "stylish-timer"
    },
    {
      "cell_type": "code",
      "metadata": {
        "execution": {
          "iopub.execute_input": "2021-05-02T23:18:55.676285Z",
          "iopub.status.busy": "2021-05-02T23:18:55.675311Z",
          "iopub.status.idle": "2021-05-02T23:18:55.798773Z",
          "shell.execute_reply": "2021-05-02T23:18:55.798193Z"
        },
        "papermill": {
          "duration": 0.159632,
          "end_time": "2021-05-02T23:18:55.798989",
          "exception": false,
          "start_time": "2021-05-02T23:18:55.639357",
          "status": "completed"
        },
        "tags": [],
        "id": "governing-genre"
      },
      "source": [
        "from sklearn.linear_model import LogisticRegression\n",
        "logistic= LogisticRegression()\n",
        "logistic.fit(X_train, y_train)\n",
        "predictions_logistic= logistic.predict(X_test)"
      ],
      "id": "governing-genre",
      "execution_count": 18,
      "outputs": []
    },
    {
      "cell_type": "markdown",
      "metadata": {
        "papermill": {
          "duration": 0.032917,
          "end_time": "2021-05-02T23:18:55.867083",
          "exception": false,
          "start_time": "2021-05-02T23:18:55.834166",
          "status": "completed"
        },
        "tags": [],
        "id": "conditional-batch"
      },
      "source": [
        "Evaluation of the Performance of Logistic Regression"
      ],
      "id": "conditional-batch"
    },
    {
      "cell_type": "code",
      "metadata": {
        "execution": {
          "iopub.execute_input": "2021-05-02T23:18:55.938376Z",
          "iopub.status.busy": "2021-05-02T23:18:55.937361Z",
          "iopub.status.idle": "2021-05-02T23:18:55.947739Z",
          "shell.execute_reply": "2021-05-02T23:18:55.948166Z"
        },
        "papermill": {
          "duration": 0.047514,
          "end_time": "2021-05-02T23:18:55.948348",
          "exception": false,
          "start_time": "2021-05-02T23:18:55.900834",
          "status": "completed"
        },
        "tags": [],
        "colab": {
          "base_uri": "https://localhost:8080/",
          "height": 204
        },
        "id": "parental-quick",
        "outputId": "aad85c74-26f4-46c4-e1f8-553a5a3dc363"
      },
      "source": [
        "df1=pd.DataFrame(y_test,columns=[\"Original Values\"])\n",
        "df2=pd.DataFrame(predictions_logistic,columns=[ \"Predictions of Logistic regression\"])\n",
        "pd.concat([df1,df2],axis=1).head()\n",
        "#Here we can compare the predictions of our model with the actual values"
      ],
      "id": "parental-quick",
      "execution_count": 19,
      "outputs": [
        {
          "output_type": "execute_result",
          "data": {
            "text/html": [
              "<div>\n",
              "<style scoped>\n",
              "    .dataframe tbody tr th:only-of-type {\n",
              "        vertical-align: middle;\n",
              "    }\n",
              "\n",
              "    .dataframe tbody tr th {\n",
              "        vertical-align: top;\n",
              "    }\n",
              "\n",
              "    .dataframe thead th {\n",
              "        text-align: right;\n",
              "    }\n",
              "</style>\n",
              "<table border=\"1\" class=\"dataframe\">\n",
              "  <thead>\n",
              "    <tr style=\"text-align: right;\">\n",
              "      <th></th>\n",
              "      <th>Original Values</th>\n",
              "      <th>Predictions of Logistic regression</th>\n",
              "    </tr>\n",
              "  </thead>\n",
              "  <tbody>\n",
              "    <tr>\n",
              "      <th>0</th>\n",
              "      <td>0</td>\n",
              "      <td>0</td>\n",
              "    </tr>\n",
              "    <tr>\n",
              "      <th>1</th>\n",
              "      <td>0</td>\n",
              "      <td>0</td>\n",
              "    </tr>\n",
              "    <tr>\n",
              "      <th>2</th>\n",
              "      <td>0</td>\n",
              "      <td>0</td>\n",
              "    </tr>\n",
              "    <tr>\n",
              "      <th>3</th>\n",
              "      <td>0</td>\n",
              "      <td>0</td>\n",
              "    </tr>\n",
              "    <tr>\n",
              "      <th>4</th>\n",
              "      <td>0</td>\n",
              "      <td>0</td>\n",
              "    </tr>\n",
              "  </tbody>\n",
              "</table>\n",
              "</div>"
            ],
            "text/plain": [
              "   Original Values  Predictions of Logistic regression\n",
              "0                0                                   0\n",
              "1                0                                   0\n",
              "2                0                                   0\n",
              "3                0                                   0\n",
              "4                0                                   0"
            ]
          },
          "metadata": {
            "tags": []
          },
          "execution_count": 19
        }
      ]
    },
    {
      "cell_type": "code",
      "metadata": {
        "execution": {
          "iopub.execute_input": "2021-05-02T23:18:56.021407Z",
          "iopub.status.busy": "2021-05-02T23:18:56.020464Z",
          "iopub.status.idle": "2021-05-02T23:18:56.034350Z",
          "shell.execute_reply": "2021-05-02T23:18:56.033854Z"
        },
        "papermill": {
          "duration": 0.052189,
          "end_time": "2021-05-02T23:18:56.034501",
          "exception": false,
          "start_time": "2021-05-02T23:18:55.982312",
          "status": "completed"
        },
        "tags": [],
        "colab": {
          "base_uri": "https://localhost:8080/"
        },
        "id": "bulgarian-spank",
        "outputId": "ad85a72c-9a5d-4242-ca47-2375a7833069"
      },
      "source": [
        "from sklearn.metrics import classification_report, confusion_matrix,accuracy_score\n",
        "print(classification_report(y_test, predictions_logistic))\n",
        "print(confusion_matrix(y_test, predictions_logistic))\n",
        "print(accuracy_score(y_test, predictions_logistic))"
      ],
      "id": "bulgarian-spank",
      "execution_count": 20,
      "outputs": [
        {
          "output_type": "stream",
          "text": [
            "              precision    recall  f1-score   support\n",
            "\n",
            "           0       0.89      0.96      0.92        68\n",
            "           1       0.89      0.75      0.81        32\n",
            "\n",
            "    accuracy                           0.89       100\n",
            "   macro avg       0.89      0.85      0.87       100\n",
            "weighted avg       0.89      0.89      0.89       100\n",
            "\n",
            "[[65  3]\n",
            " [ 8 24]]\n",
            "0.89\n"
          ],
          "name": "stdout"
        }
      ]
    },
    {
      "cell_type": "code",
      "metadata": {
        "execution": {
          "iopub.execute_input": "2021-05-02T23:18:56.111017Z",
          "iopub.status.busy": "2021-05-02T23:18:56.110326Z",
          "iopub.status.idle": "2021-05-02T23:19:21.141811Z",
          "shell.execute_reply": "2021-05-02T23:19:21.142311Z"
        },
        "papermill": {
          "duration": 25.074475,
          "end_time": "2021-05-02T23:19:21.142654",
          "exception": false,
          "start_time": "2021-05-02T23:18:56.068179",
          "status": "completed"
        },
        "tags": [],
        "colab": {
          "base_uri": "https://localhost:8080/",
          "height": 335
        },
        "id": "municipal-ghost",
        "outputId": "cf03e909-3d8f-4249-b712-0bc585592537"
      },
      "source": [
        "from matplotlib.colors import ListedColormap\n",
        "X_set, y_set = ss.inverse_transform(X_train), y_train\n",
        "X1, X2 = np.meshgrid(np.arange(start = X_set[:, 0].min() - 10, stop = X_set[:, 0].max() + 10, step = 0.25),\n",
        "                     np.arange(start = X_set[:, 1].min() - 1000, stop = X_set[:, 1].max() + 1000, step = 0.25))\n",
        "plt.contourf(X1, X2, logistic.predict(ss.transform(np.array([X1.ravel(), X2.ravel()]).T)).reshape(X1.shape),\n",
        "             alpha = 0.75, cmap = ListedColormap(('red', 'green')))\n",
        "plt.xlim(X1.min(), X1.max())\n",
        "plt.ylim(X2.min(), X2.max())\n",
        "for i, j in enumerate(np.unique(y_set)):\n",
        "    plt.scatter(X_set[y_set == j, 0], X_set[y_set == j, 1], c = ListedColormap(('red', 'green'))(i), label = j)\n",
        "plt.title('Logistic Regression (Training set)')\n",
        "#plt.xlabel('Age')\n",
        "#plt.ylabel('Estimated Salary')\n",
        "plt.legend()\n",
        "plt.show()\n",
        "#Visualization of the predictions of the Logistic Regression in Train Set"
      ],
      "id": "municipal-ghost",
      "execution_count": 21,
      "outputs": [
        {
          "output_type": "stream",
          "text": [
            "*c* argument looks like a single numeric RGB or RGBA sequence, which should be avoided as value-mapping will have precedence in case its length matches with *x* & *y*.  Please use the *color* keyword-argument or provide a 2-D array with a single row if you intend to specify the same RGB or RGBA value for all points.\n",
            "*c* argument looks like a single numeric RGB or RGBA sequence, which should be avoided as value-mapping will have precedence in case its length matches with *x* & *y*.  Please use the *color* keyword-argument or provide a 2-D array with a single row if you intend to specify the same RGB or RGBA value for all points.\n"
          ],
          "name": "stderr"
        },
        {
          "output_type": "display_data",
          "data": {
            "image/png": "[encoded data removed]",
            "text/plain": [
              "<Figure size 432x288 with 1 Axes>"
            ]
          },
          "metadata": {
            "tags": [],
            "needs_background": "light"
          }
        }
      ]
    },
    {
      "cell_type": "code",
      "metadata": {
        "execution": {
          "iopub.execute_input": "2021-05-02T23:19:21.224236Z",
          "iopub.status.busy": "2021-05-02T23:19:21.223084Z",
          "iopub.status.idle": "2021-05-02T23:19:41.141713Z",
          "shell.execute_reply": "2021-05-02T23:19:41.141078Z"
        },
        "papermill": {
          "duration": 19.963115,
          "end_time": "2021-05-02T23:19:41.141887",
          "exception": false,
          "start_time": "2021-05-02T23:19:21.178772",
          "status": "completed"
        },
        "tags": [],
        "colab": {
          "base_uri": "https://localhost:8080/",
          "height": 335
        },
        "id": "geological-lucas",
        "outputId": "d931313d-917c-4d00-b618-48918068e92b"
      },
      "source": [
        "from matplotlib.colors import ListedColormap\n",
        "X_set, y_set = ss.inverse_transform(X_test), y_test\n",
        "X1, X2 = np.meshgrid(np.arange(start = X_set[:, 0].min() - 10, stop = X_set[:, 0].max() + 10, step = 0.25),\n",
        "                     np.arange(start = X_set[:, 1].min() - 1000, stop = X_set[:, 1].max() + 1000, step = 0.25))\n",
        "plt.contourf(X1, X2, logistic.predict(ss.transform(np.array([X1.ravel(), X2.ravel()]).T)).reshape(X1.shape),\n",
        "             alpha = 0.75, cmap = ListedColormap(('red', 'green')))\n",
        "plt.xlim(X1.min(), X1.max())\n",
        "plt.ylim(X2.min(), X2.max())\n",
        "for i, j in enumerate(np.unique(y_set)):\n",
        "    plt.scatter(X_set[y_set == j, 0], X_set[y_set == j, 1], c = ListedColormap(('red', 'green'))(i), label = j)\n",
        "plt.title('Logistic Regression (Test set)')\n",
        "#plt.xlabel('Age')\n",
        "#plt.ylabel('Estimated Salary')\n",
        "plt.legend()\n",
        "plt.show()\n",
        "#Visualization of the predictions of the Logistic Regression in Test Set"
      ],
      "id": "geological-lucas",
      "execution_count": 22,
      "outputs": [
        {
          "output_type": "stream",
          "text": [
            "*c* argument looks like a single numeric RGB or RGBA sequence, which should be avoided as value-mapping will have precedence in case its length matches with *x* & *y*.  Please use the *color* keyword-argument or provide a 2-D array with a single row if you intend to specify the same RGB or RGBA value for all points.\n",
            "*c* argument looks like a single numeric RGB or RGBA sequence, which should be avoided as value-mapping will have precedence in case its length matches with *x* & *y*.  Please use the *color* keyword-argument or provide a 2-D array with a single row if you intend to specify the same RGB or RGBA value for all points.\n"
          ],
          "name": "stderr"
        },
        {
          "output_type": "display_data",
          "data": {
            "image/png": "[encoded data removed]",
            "text/plain": [
              "<Figure size 432x288 with 1 Axes>"
            ]
          },
          "metadata": {
            "tags": [],
            "needs_background": "light"
          }
        }
      ]
    },
    {
      "cell_type": "markdown",
      "metadata": {
        "papermill": {
          "duration": 0.036509,
          "end_time": "2021-05-02T23:19:41.214702",
          "exception": false,
          "start_time": "2021-05-02T23:19:41.178193",
          "status": "completed"
        },
        "tags": [],
        "id": "tutorial-apple"
      },
      "source": [
        "## 2. K Nearest Neighbors:"
      ],
      "id": "tutorial-apple"
    },
    {
      "cell_type": "markdown",
      "metadata": {
        "papermill": {
          "duration": 0.035251,
          "end_time": "2021-05-02T23:19:41.285402",
          "exception": false,
          "start_time": "2021-05-02T23:19:41.250151",
          "status": "completed"
        },
        "tags": [],
        "id": "swedish-allocation"
      },
      "source": [
        "How Algorithm Works:\n",
        "\n",
        "*K nearest neighbors is a simple algorithm that stores all available cases and classifies new cases based on a similarity measure (e.g., distance functions).\n",
        "\n",
        "Firstly we store all the dataSecondly we calculate the data from x to all points in our data set, x indicationg particular new data point Then we sort the points near data by increasing distance from xFinally we predict the majority label of K, which is number and represent closest points\n",
        "\n",
        "*Choosing a K will effect what class a new point is assigned to: if we choose k=3, then the algorithm looks at the three nearest neighbors to this new point if we set k=6, then the algorithm looks at the six nearest neighbors to this new point and decide according to the majority of these 6 neighbors. If we set larger k values,we get a cleaner cutoff at the expense of mislabelling some points"
      ],
      "id": "swedish-allocation"
    },
    {
      "cell_type": "code",
      "metadata": {
        "execution": {
          "iopub.execute_input": "2021-05-02T23:19:41.361203Z",
          "iopub.status.busy": "2021-05-02T23:19:41.360410Z",
          "iopub.status.idle": "2021-05-02T23:19:41.705902Z",
          "shell.execute_reply": "2021-05-02T23:19:41.706392Z"
        },
        "papermill": {
          "duration": 0.385545,
          "end_time": "2021-05-02T23:19:41.706561",
          "exception": false,
          "start_time": "2021-05-02T23:19:41.321016",
          "status": "completed"
        },
        "tags": [],
        "colab": {
          "base_uri": "https://localhost:8080/",
          "height": 535
        },
        "id": "consolidated-serial",
        "outputId": "e8ec394b-f795-486f-c7b5-f309c390eea6"
      },
      "source": [
        "plt.figure(figsize=(12,10))\n",
        "plt.imshow(plt.imread(\"/content/drive/MyDrive/input/knn.png\"))"
      ],
      "id": "consolidated-serial",
      "execution_count": 24,
      "outputs": [
        {
          "output_type": "execute_result",
          "data": {
            "text/plain": [
              "<matplotlib.image.AxesImage at 0x7f52a21f2cd0>"
            ]
          },
          "metadata": {
            "tags": []
          },
          "execution_count": 24
        },
        {
          "output_type": "display_data",
          "data": {
            "image/png": "[encoded data removed]",
            "text/plain": [
              "<Figure size 864x720 with 1 Axes>"
            ]
          },
          "metadata": {
            "tags": [],
            "needs_background": "light"
          }
        }
      ]
    },
    {
      "cell_type": "markdown",
      "metadata": {
        "papermill": {
          "duration": 0.038429,
          "end_time": "2021-05-02T23:19:41.783936",
          "exception": false,
          "start_time": "2021-05-02T23:19:41.745507",
          "status": "completed"
        },
        "tags": [],
        "id": "south-hydrogen"
      },
      "source": [
        "In this case, we have data points of Class A and B. We want to predict what the star (test data point) is. If we consider a k value of 3 (3 nearest data points) we will obtain a prediction of Class B. Yet if we consider a k value of 6, we will obtain a prediction of Class A.Therefore, the value of k is very important for our model's success."
      ],
      "id": "south-hydrogen"
    },
    {
      "cell_type": "code",
      "metadata": {
        "execution": {
          "iopub.execute_input": "2021-05-02T23:19:41.865964Z",
          "iopub.status.busy": "2021-05-02T23:19:41.865228Z",
          "iopub.status.idle": "2021-05-02T23:19:41.952228Z",
          "shell.execute_reply": "2021-05-02T23:19:41.952709Z"
        },
        "papermill": {
          "duration": 0.130043,
          "end_time": "2021-05-02T23:19:41.952930",
          "exception": false,
          "start_time": "2021-05-02T23:19:41.822887",
          "status": "completed"
        },
        "tags": [],
        "id": "electrical-anger"
      },
      "source": [
        "from sklearn.neighbors import KNeighborsClassifier\n"
      ],
      "id": "electrical-anger",
      "execution_count": 25,
      "outputs": []
    },
    {
      "cell_type": "markdown",
      "metadata": {
        "papermill": {
          "duration": 0.040017,
          "end_time": "2021-05-02T23:19:42.031699",
          "exception": false,
          "start_time": "2021-05-02T23:19:41.991682",
          "status": "completed"
        },
        "tags": [],
        "id": "reported-highlight"
      },
      "source": [
        "Choosing true k value is very important. Instead of using different k vlaues which will be time consuming, we can use a function in order to choose the best k."
      ],
      "id": "reported-highlight"
    },
    {
      "cell_type": "code",
      "metadata": {
        "execution": {
          "iopub.execute_input": "2021-05-02T23:19:42.113215Z",
          "iopub.status.busy": "2021-05-02T23:19:42.112274Z",
          "iopub.status.idle": "2021-05-02T23:19:42.294267Z",
          "shell.execute_reply": "2021-05-02T23:19:42.293644Z"
        },
        "papermill": {
          "duration": 0.224088,
          "end_time": "2021-05-02T23:19:42.294410",
          "exception": false,
          "start_time": "2021-05-02T23:19:42.070322",
          "status": "completed"
        },
        "tags": [],
        "id": "acoustic-register"
      },
      "source": [
        "error_rate=list()\n",
        "#here we iterate meny different k values and plot their error rates \n",
        "#and discover which one is better than others and has the lowest error rate\n",
        "for i in range(1,40):\n",
        "    knn=KNeighborsClassifier(n_neighbors=i)\n",
        "    knn.fit(X_train,y_train)\n",
        "    prediction_i=knn.predict(X_test)\n",
        "    error_rate.append(np.mean(prediction_i != y_test))"
      ],
      "id": "acoustic-register",
      "execution_count": 26,
      "outputs": []
    },
    {
      "cell_type": "code",
      "metadata": {
        "execution": {
          "iopub.execute_input": "2021-05-02T23:19:42.393743Z",
          "iopub.status.busy": "2021-05-02T23:19:42.391470Z",
          "iopub.status.idle": "2021-05-02T23:19:42.555359Z",
          "shell.execute_reply": "2021-05-02T23:19:42.554760Z"
        },
        "papermill": {
          "duration": 0.222684,
          "end_time": "2021-05-02T23:19:42.555503",
          "exception": false,
          "start_time": "2021-05-02T23:19:42.332819",
          "status": "completed"
        },
        "tags": [],
        "colab": {
          "base_uri": "https://localhost:8080/",
          "height": 624
        },
        "id": "current-indian",
        "outputId": "8ad5596d-7e66-457a-f757-e7930c57f44a"
      },
      "source": [
        "# Now we will plot the prediction error rates of different k values\n",
        "plt.figure(figsize=(15,10))\n",
        "plt.plot(range(1,40),error_rate, color=\"blue\", linestyle=\"--\",marker=\"o\",markerfacecolor=\"red\",markersize=10)\n",
        "plt.title(\"Error Rate vs K Value\")\n",
        "plt.xlabel=\"K Value\"\n",
        "plt.ylabel(\"Error Rate\")"
      ],
      "id": "current-indian",
      "execution_count": 27,
      "outputs": [
        {
          "output_type": "execute_result",
          "data": {
            "text/plain": [
              "Text(0, 0.5, 'Error Rate')"
            ]
          },
          "metadata": {
            "tags": []
          },
          "execution_count": 27
        },
        {
          "output_type": "display_data",
          "data": {
            "image/png": "[encoded data removed]",
            "text/plain": [
              "<Figure size 1080x720 with 1 Axes>"
            ]
          },
          "metadata": {
            "tags": [],
            "needs_background": "light"
          }
        }
      ]
    },
    {
      "cell_type": "markdown",
      "metadata": {
        "papermill": {
          "duration": 0.039611,
          "end_time": "2021-05-02T23:19:42.634865",
          "exception": false,
          "start_time": "2021-05-02T23:19:42.595254",
          "status": "completed"
        },
        "tags": [],
        "id": "solved-understanding"
      },
      "source": [
        "As we can see in the figure above, k between 5 and 37 gives the least error rate,so we will use it for better predictions"
      ],
      "id": "solved-understanding"
    },
    {
      "cell_type": "code",
      "metadata": {
        "execution": {
          "iopub.execute_input": "2021-05-02T23:19:42.721058Z",
          "iopub.status.busy": "2021-05-02T23:19:42.720345Z",
          "iopub.status.idle": "2021-05-02T23:19:42.728343Z",
          "shell.execute_reply": "2021-05-02T23:19:42.727867Z"
        },
        "papermill": {
          "duration": 0.053983,
          "end_time": "2021-05-02T23:19:42.728477",
          "exception": false,
          "start_time": "2021-05-02T23:19:42.674494",
          "status": "completed"
        },
        "tags": [],
        "id": "attempted-jonathan"
      },
      "source": [
        "knn=KNeighborsClassifier(n_neighbors=5) # we choose 5 as neigbor parameter\n",
        "knn.fit(X_train,y_train)\n",
        "knn_predictions=knn.predict(X_test)"
      ],
      "id": "attempted-jonathan",
      "execution_count": 28,
      "outputs": []
    },
    {
      "cell_type": "markdown",
      "metadata": {
        "papermill": {
          "duration": 0.040166,
          "end_time": "2021-05-02T23:19:42.808599",
          "exception": false,
          "start_time": "2021-05-02T23:19:42.768433",
          "status": "completed"
        },
        "tags": [],
        "id": "stainless-craps"
      },
      "source": [
        "Evaluation of the Performance of  K Neares Neighbors"
      ],
      "id": "stainless-craps"
    },
    {
      "cell_type": "code",
      "metadata": {
        "execution": {
          "iopub.execute_input": "2021-05-02T23:19:42.899833Z",
          "iopub.status.busy": "2021-05-02T23:19:42.898871Z",
          "iopub.status.idle": "2021-05-02T23:19:42.904433Z",
          "shell.execute_reply": "2021-05-02T23:19:42.903772Z"
        },
        "papermill": {
          "duration": 0.056081,
          "end_time": "2021-05-02T23:19:42.904588",
          "exception": false,
          "start_time": "2021-05-02T23:19:42.848507",
          "status": "completed"
        },
        "tags": [],
        "colab": {
          "base_uri": "https://localhost:8080/",
          "height": 204
        },
        "id": "paperback-gregory",
        "outputId": "c67f3b38-d52e-41e6-c838-f50db6acd0cc"
      },
      "source": [
        "df1=pd.DataFrame(y_test,columns=[\"Original Values\"])\n",
        "df2=pd.DataFrame(knn_predictions,columns=[ \"Predictions of KNN\"])\n",
        "pd.concat([df1,df2],axis=1).head()"
      ],
      "id": "paperback-gregory",
      "execution_count": 29,
      "outputs": [
        {
          "output_type": "execute_result",
          "data": {
            "text/html": [
              "<div>\n",
              "<style scoped>\n",
              "    .dataframe tbody tr th:only-of-type {\n",
              "        vertical-align: middle;\n",
              "    }\n",
              "\n",
              "    .dataframe tbody tr th {\n",
              "        vertical-align: top;\n",
              "    }\n",
              "\n",
              "    .dataframe thead th {\n",
              "        text-align: right;\n",
              "    }\n",
              "</style>\n",
              "<table border=\"1\" class=\"dataframe\">\n",
              "  <thead>\n",
              "    <tr style=\"text-align: right;\">\n",
              "      <th></th>\n",
              "      <th>Original Values</th>\n",
              "      <th>Predictions of KNN</th>\n",
              "    </tr>\n",
              "  </thead>\n",
              "  <tbody>\n",
              "    <tr>\n",
              "      <th>0</th>\n",
              "      <td>0</td>\n",
              "      <td>0</td>\n",
              "    </tr>\n",
              "    <tr>\n",
              "      <th>1</th>\n",
              "      <td>0</td>\n",
              "      <td>0</td>\n",
              "    </tr>\n",
              "    <tr>\n",
              "      <th>2</th>\n",
              "      <td>0</td>\n",
              "      <td>0</td>\n",
              "    </tr>\n",
              "    <tr>\n",
              "      <th>3</th>\n",
              "      <td>0</td>\n",
              "      <td>0</td>\n",
              "    </tr>\n",
              "    <tr>\n",
              "      <th>4</th>\n",
              "      <td>0</td>\n",
              "      <td>0</td>\n",
              "    </tr>\n",
              "  </tbody>\n",
              "</table>\n",
              "</div>"
            ],
            "text/plain": [
              "   Original Values  Predictions of KNN\n",
              "0                0                   0\n",
              "1                0                   0\n",
              "2                0                   0\n",
              "3                0                   0\n",
              "4                0                   0"
            ]
          },
          "metadata": {
            "tags": []
          },
          "execution_count": 29
        }
      ]
    },
    {
      "cell_type": "code",
      "metadata": {
        "execution": {
          "iopub.execute_input": "2021-05-02T23:19:42.993196Z",
          "iopub.status.busy": "2021-05-02T23:19:42.992399Z",
          "iopub.status.idle": "2021-05-02T23:19:43.004105Z",
          "shell.execute_reply": "2021-05-02T23:19:43.004583Z"
        },
        "papermill": {
          "duration": 0.058647,
          "end_time": "2021-05-02T23:19:43.004754",
          "exception": false,
          "start_time": "2021-05-02T23:19:42.946107",
          "status": "completed"
        },
        "tags": [],
        "colab": {
          "base_uri": "https://localhost:8080/"
        },
        "id": "proper-midwest",
        "outputId": "81c062f9-615d-4b84-92af-2b877e64307e"
      },
      "source": [
        "print(classification_report(y_test, knn_predictions))\n",
        "print(confusion_matrix(y_test, knn_predictions))\n",
        "print(accuracy_score(y_test, knn_predictions))\n",
        "#KNN has higher performance than Logistic Regression in this dataset"
      ],
      "id": "proper-midwest",
      "execution_count": 30,
      "outputs": [
        {
          "output_type": "stream",
          "text": [
            "              precision    recall  f1-score   support\n",
            "\n",
            "           0       0.96      0.94      0.95        68\n",
            "           1       0.88      0.91      0.89        32\n",
            "\n",
            "    accuracy                           0.93       100\n",
            "   macro avg       0.92      0.92      0.92       100\n",
            "weighted avg       0.93      0.93      0.93       100\n",
            "\n",
            "[[64  4]\n",
            " [ 3 29]]\n",
            "0.93\n"
          ],
          "name": "stdout"
        }
      ]
    },
    {
      "cell_type": "markdown",
      "metadata": {
        "papermill": {
          "duration": 0.040476,
          "end_time": "2021-05-02T23:19:43.086163",
          "exception": false,
          "start_time": "2021-05-02T23:19:43.045687",
          "status": "completed"
        },
        "tags": [],
        "id": "visible-bunny"
      },
      "source": [
        "Visualising the Test set results"
      ],
      "id": "visible-bunny"
    },
    {
      "cell_type": "code",
      "metadata": {
        "execution": {
          "iopub.execute_input": "2021-05-02T23:19:43.178523Z",
          "iopub.status.busy": "2021-05-02T23:19:43.177864Z",
          "iopub.status.idle": "2021-05-02T23:23:37.866408Z",
          "shell.execute_reply": "2021-05-02T23:23:37.866892Z"
        },
        "papermill": {
          "duration": 234.738636,
          "end_time": "2021-05-02T23:23:37.867102",
          "exception": false,
          "start_time": "2021-05-02T23:19:43.128466",
          "status": "completed"
        },
        "tags": [],
        "colab": {
          "base_uri": "https://localhost:8080/",
          "height": 335
        },
        "id": "indirect-convertible",
        "outputId": "6bcddae9-cda6-4d52-fdc1-6552f31f6f34"
      },
      "source": [
        "from matplotlib.colors import ListedColormap\n",
        "X_set, y_set = ss.inverse_transform(X_test), y_test\n",
        "X1, X2 = np.meshgrid(np.arange(start = X_set[:, 0].min() - 10, stop = X_set[:, 0].max() + 10, step = 1),\n",
        "                     np.arange(start = X_set[:, 1].min() - 1000, stop = X_set[:, 1].max() + 1000, step = 1))\n",
        "plt.contourf(X1, X2, knn.predict(ss.transform(np.array([X1.ravel(), X2.ravel()]).T)).reshape(X1.shape),\n",
        "             alpha = 0.75, cmap = ListedColormap(('blue', 'purple')))\n",
        "plt.xlim(X1.min(), X1.max())\n",
        "plt.ylim(X2.min(), X2.max())\n",
        "for i, j in enumerate(np.unique(y_set)):\n",
        "    plt.scatter(X_set[y_set == j, 0], X_set[y_set == j, 1], c = ListedColormap(('blue', 'purple'))(i), label = j)\n",
        "plt.title('K-NN (Test set)')\n",
        "#plt.xlabel('Age')\n",
        "#plt.ylabel('Estimated Salary')\n",
        "plt.legend()\n",
        "plt.show()"
      ],
      "id": "indirect-convertible",
      "execution_count": 31,
      "outputs": [
        {
          "output_type": "stream",
          "text": [
            "*c* argument looks like a single numeric RGB or RGBA sequence, which should be avoided as value-mapping will have precedence in case its length matches with *x* & *y*.  Please use the *color* keyword-argument or provide a 2-D array with a single row if you intend to specify the same RGB or RGBA value for all points.\n",
            "*c* argument looks like a single numeric RGB or RGBA sequence, which should be avoided as value-mapping will have precedence in case its length matches with *x* & *y*.  Please use the *color* keyword-argument or provide a 2-D array with a single row if you intend to specify the same RGB or RGBA value for all points.\n"
          ],
          "name": "stderr"
        },
        {
          "output_type": "display_data",
          "data": {
            "image/png": "[encoded data removed]",
            "text/plain": [
              "<Figure size 432x288 with 1 Axes>"
            ]
          },
          "metadata": {
            "tags": [],
            "needs_background": "light"
          }
        }
      ]
    },
    {
      "cell_type": "markdown",
      "metadata": {
        "papermill": {
          "duration": 0.041182,
          "end_time": "2021-05-02T23:23:37.949896",
          "exception": false,
          "start_time": "2021-05-02T23:23:37.908714",
          "status": "completed"
        },
        "tags": [],
        "id": "excess-puzzle"
      },
      "source": [
        "## 3. Decision Tree Classifier"
      ],
      "id": "excess-puzzle"
    },
    {
      "cell_type": "code",
      "metadata": {
        "execution": {
          "iopub.execute_input": "2021-05-02T23:23:38.037482Z",
          "iopub.status.busy": "2021-05-02T23:23:38.036834Z",
          "iopub.status.idle": "2021-05-02T23:23:38.083210Z",
          "shell.execute_reply": "2021-05-02T23:23:38.083808Z"
        },
        "papermill": {
          "duration": 0.092763,
          "end_time": "2021-05-02T23:23:38.084006",
          "exception": false,
          "start_time": "2021-05-02T23:23:37.991243",
          "status": "completed"
        },
        "tags": [],
        "id": "assured-spanking"
      },
      "source": [
        "from sklearn.tree import DecisionTreeClassifier\n",
        "dtree=DecisionTreeClassifier()\n",
        "dtree.fit(X_train, y_train)\n",
        "dtree_predictions= dtree.predict(X_test)"
      ],
      "id": "assured-spanking",
      "execution_count": 32,
      "outputs": []
    },
    {
      "cell_type": "code",
      "metadata": {
        "execution": {
          "iopub.execute_input": "2021-05-02T23:23:38.189158Z",
          "iopub.status.busy": "2021-05-02T23:23:38.188214Z",
          "iopub.status.idle": "2021-05-02T23:23:38.201718Z",
          "shell.execute_reply": "2021-05-02T23:23:38.202249Z"
        },
        "papermill": {
          "duration": 0.074189,
          "end_time": "2021-05-02T23:23:38.202428",
          "exception": false,
          "start_time": "2021-05-02T23:23:38.128239",
          "status": "completed"
        },
        "tags": [],
        "colab": {
          "base_uri": "https://localhost:8080/",
          "height": 419
        },
        "id": "transsexual-kazakhstan",
        "outputId": "37524630-112f-451d-f248-c43c2a9fbac8"
      },
      "source": [
        "df1=pd.DataFrame(y_test,columns=[\"Original Values\"])\n",
        "df2=pd.DataFrame(dtree_predictions,columns=[ \"Predictions of Decision Tree Classifier\"])\n",
        "pd.concat([df1,df2],axis=1) "
      ],
      "id": "transsexual-kazakhstan",
      "execution_count": 33,
      "outputs": [
        {
          "output_type": "execute_result",
          "data": {
            "text/html": [
              "<div>\n",
              "<style scoped>\n",
              "    .dataframe tbody tr th:only-of-type {\n",
              "        vertical-align: middle;\n",
              "    }\n",
              "\n",
              "    .dataframe tbody tr th {\n",
              "        vertical-align: top;\n",
              "    }\n",
              "\n",
              "    .dataframe thead th {\n",
              "        text-align: right;\n",
              "    }\n",
              "</style>\n",
              "<table border=\"1\" class=\"dataframe\">\n",
              "  <thead>\n",
              "    <tr style=\"text-align: right;\">\n",
              "      <th></th>\n",
              "      <th>Original Values</th>\n",
              "      <th>Predictions of Decision Tree Classifier</th>\n",
              "    </tr>\n",
              "  </thead>\n",
              "  <tbody>\n",
              "    <tr>\n",
              "      <th>0</th>\n",
              "      <td>0</td>\n",
              "      <td>0</td>\n",
              "    </tr>\n",
              "    <tr>\n",
              "      <th>1</th>\n",
              "      <td>0</td>\n",
              "      <td>0</td>\n",
              "    </tr>\n",
              "    <tr>\n",
              "      <th>2</th>\n",
              "      <td>0</td>\n",
              "      <td>0</td>\n",
              "    </tr>\n",
              "    <tr>\n",
              "      <th>3</th>\n",
              "      <td>0</td>\n",
              "      <td>0</td>\n",
              "    </tr>\n",
              "    <tr>\n",
              "      <th>4</th>\n",
              "      <td>0</td>\n",
              "      <td>0</td>\n",
              "    </tr>\n",
              "    <tr>\n",
              "      <th>...</th>\n",
              "      <td>...</td>\n",
              "      <td>...</td>\n",
              "    </tr>\n",
              "    <tr>\n",
              "      <th>95</th>\n",
              "      <td>1</td>\n",
              "      <td>1</td>\n",
              "    </tr>\n",
              "    <tr>\n",
              "      <th>96</th>\n",
              "      <td>0</td>\n",
              "      <td>0</td>\n",
              "    </tr>\n",
              "    <tr>\n",
              "      <th>97</th>\n",
              "      <td>1</td>\n",
              "      <td>1</td>\n",
              "    </tr>\n",
              "    <tr>\n",
              "      <th>98</th>\n",
              "      <td>1</td>\n",
              "      <td>1</td>\n",
              "    </tr>\n",
              "    <tr>\n",
              "      <th>99</th>\n",
              "      <td>1</td>\n",
              "      <td>1</td>\n",
              "    </tr>\n",
              "  </tbody>\n",
              "</table>\n",
              "<p>100 rows × 2 columns</p>\n",
              "</div>"
            ],
            "text/plain": [
              "    Original Values  Predictions of Decision Tree Classifier\n",
              "0                 0                                        0\n",
              "1                 0                                        0\n",
              "2                 0                                        0\n",
              "3                 0                                        0\n",
              "4                 0                                        0\n",
              "..              ...                                      ...\n",
              "95                1                                        1\n",
              "96                0                                        0\n",
              "97                1                                        1\n",
              "98                1                                        1\n",
              "99                1                                        1\n",
              "\n",
              "[100 rows x 2 columns]"
            ]
          },
          "metadata": {
            "tags": []
          },
          "execution_count": 33
        }
      ]
    },
    {
      "cell_type": "code",
      "metadata": {
        "execution": {
          "iopub.execute_input": "2021-05-02T23:23:38.298860Z",
          "iopub.status.busy": "2021-05-02T23:23:38.297942Z",
          "iopub.status.idle": "2021-05-02T23:23:38.310021Z",
          "shell.execute_reply": "2021-05-02T23:23:38.309505Z"
        },
        "papermill": {
          "duration": 0.058045,
          "end_time": "2021-05-02T23:23:38.310170",
          "exception": false,
          "start_time": "2021-05-02T23:23:38.252125",
          "status": "completed"
        },
        "tags": [],
        "colab": {
          "base_uri": "https://localhost:8080/"
        },
        "id": "satisfactory-class",
        "outputId": "3327af89-ffdc-4599-b7d9-bf40f4412a22"
      },
      "source": [
        "print(classification_report(y_test, dtree_predictions))\n",
        "print(confusion_matrix(y_test, dtree_predictions))\n",
        "print(accuracy_score(y_test, dtree_predictions))\n",
        "#Decision has higher performance than Logistic Regression, but lower than KNN  in this dataset"
      ],
      "id": "satisfactory-class",
      "execution_count": 34,
      "outputs": [
        {
          "output_type": "stream",
          "text": [
            "              precision    recall  f1-score   support\n",
            "\n",
            "           0       0.94      0.91      0.93        68\n",
            "           1       0.82      0.88      0.85        32\n",
            "\n",
            "    accuracy                           0.90       100\n",
            "   macro avg       0.88      0.89      0.89       100\n",
            "weighted avg       0.90      0.90      0.90       100\n",
            "\n",
            "[[62  6]\n",
            " [ 4 28]]\n",
            "0.9\n"
          ],
          "name": "stdout"
        }
      ]
    },
    {
      "cell_type": "markdown",
      "metadata": {
        "papermill": {
          "duration": 0.044954,
          "end_time": "2021-05-02T23:23:38.407753",
          "exception": false,
          "start_time": "2021-05-02T23:23:38.362799",
          "status": "completed"
        },
        "tags": [],
        "id": "protected-canyon"
      },
      "source": [
        "Visualising the Test set results\n"
      ],
      "id": "protected-canyon"
    },
    {
      "cell_type": "code",
      "metadata": {
        "execution": {
          "iopub.execute_input": "2021-05-02T23:23:38.537184Z",
          "iopub.status.busy": "2021-05-02T23:23:38.536198Z",
          "iopub.status.idle": "2021-05-02T23:24:03.007989Z",
          "shell.execute_reply": "2021-05-02T23:24:03.007291Z"
        },
        "papermill": {
          "duration": 24.543742,
          "end_time": "2021-05-02T23:24:03.008149",
          "exception": false,
          "start_time": "2021-05-02T23:23:38.464407",
          "status": "completed"
        },
        "tags": [],
        "colab": {
          "base_uri": "https://localhost:8080/",
          "height": 352
        },
        "id": "married-dealing",
        "outputId": "99075495-2955-4944-8bfe-255aeb40a580"
      },
      "source": [
        "X_set, y_set = ss.inverse_transform(X_test), y_test\n",
        "X1, X2 = np.meshgrid(np.arange(start = X_set[:, 0].min() - 10, stop = X_set[:, 0].max() + 10, step = 0.25),\n",
        "                     np.arange(start = X_set[:, 1].min() - 1000, stop = X_set[:, 1].max() + 1000, step = 0.25))\n",
        "plt.contourf(X1, X2, dtree.predict(ss.transform(np.array([X1.ravel(), X2.ravel()]).T)).reshape(X1.shape),\n",
        "             alpha = 0.75, cmap = ListedColormap(('red', 'green')))\n",
        "plt.xlim(X1.min(), X1.max())\n",
        "plt.ylim(X2.min(), X2.max())\n",
        "for i, j in enumerate(np.unique(y_set)):\n",
        "    plt.scatter(X_set[y_set == j, 0], X_set[y_set == j, 1], c = ListedColormap(('red', 'green'))(i), label = j)\n",
        "plt.title('Decision Tree Classification (Test set)')\n",
        "#plt.xlabel('Age')\n",
        "#plt.ylabel('Estimated Salary')\n",
        "plt.legend"
      ],
      "id": "married-dealing",
      "execution_count": 35,
      "outputs": [
        {
          "output_type": "stream",
          "text": [
            "*c* argument looks like a single numeric RGB or RGBA sequence, which should be avoided as value-mapping will have precedence in case its length matches with *x* & *y*.  Please use the *color* keyword-argument or provide a 2-D array with a single row if you intend to specify the same RGB or RGBA value for all points.\n",
            "*c* argument looks like a single numeric RGB or RGBA sequence, which should be avoided as value-mapping will have precedence in case its length matches with *x* & *y*.  Please use the *color* keyword-argument or provide a 2-D array with a single row if you intend to specify the same RGB or RGBA value for all points.\n"
          ],
          "name": "stderr"
        },
        {
          "output_type": "execute_result",
          "data": {
            "text/plain": [
              "<function matplotlib.pyplot.legend>"
            ]
          },
          "metadata": {
            "tags": []
          },
          "execution_count": 35
        },
        {
          "output_type": "display_data",
          "data": {
            "image/png": "[encoded data removed]",
            "text/plain": [
              "<Figure size 432x288 with 1 Axes>"
            ]
          },
          "metadata": {
            "tags": [],
            "needs_background": "light"
          }
        }
      ]
    },
    {
      "cell_type": "markdown",
      "metadata": {
        "papermill": {
          "duration": 0.044068,
          "end_time": "2021-05-02T23:24:03.096148",
          "exception": false,
          "start_time": "2021-05-02T23:24:03.052080",
          "status": "completed"
        },
        "tags": [],
        "id": "interstate-designer"
      },
      "source": [
        "## 4. Random Forest Classifier"
      ],
      "id": "interstate-designer"
    },
    {
      "cell_type": "code",
      "metadata": {
        "execution": {
          "iopub.execute_input": "2021-05-02T23:24:03.190019Z",
          "iopub.status.busy": "2021-05-02T23:24:03.189369Z",
          "iopub.status.idle": "2021-05-02T23:24:03.372347Z",
          "shell.execute_reply": "2021-05-02T23:24:03.371674Z"
        },
        "papermill": {
          "duration": 0.231357,
          "end_time": "2021-05-02T23:24:03.372491",
          "exception": false,
          "start_time": "2021-05-02T23:24:03.141134",
          "status": "completed"
        },
        "tags": [],
        "id": "varying-lindsay"
      },
      "source": [
        "from sklearn.ensemble import RandomForestClassifier\n",
        "random=RandomForestClassifier()\n",
        "random.fit(X_train,y_train)\n",
        "random_predictions= random.predict(X_test)"
      ],
      "id": "varying-lindsay",
      "execution_count": 36,
      "outputs": []
    },
    {
      "cell_type": "code",
      "metadata": {
        "execution": {
          "iopub.execute_input": "2021-05-02T23:24:03.469348Z",
          "iopub.status.busy": "2021-05-02T23:24:03.468382Z",
          "iopub.status.idle": "2021-05-02T23:24:03.475761Z",
          "shell.execute_reply": "2021-05-02T23:24:03.476253Z"
        },
        "papermill": {
          "duration": 0.059951,
          "end_time": "2021-05-02T23:24:03.476439",
          "exception": false,
          "start_time": "2021-05-02T23:24:03.416488",
          "status": "completed"
        },
        "tags": [],
        "colab": {
          "base_uri": "https://localhost:8080/",
          "height": 204
        },
        "id": "limited-debate",
        "outputId": "e88d3c22-cf1e-494a-fadc-1f5eb165f938"
      },
      "source": [
        "df1=pd.DataFrame(y_test,columns=[\"Original Values\"])\n",
        "df2=pd.DataFrame(random_predictions,columns=[ \"Predictions of Random Forest Classifier\"])\n",
        "pd.concat([df1,df2],axis=1).head()"
      ],
      "id": "limited-debate",
      "execution_count": 37,
      "outputs": [
        {
          "output_type": "execute_result",
          "data": {
            "text/html": [
              "<div>\n",
              "<style scoped>\n",
              "    .dataframe tbody tr th:only-of-type {\n",
              "        vertical-align: middle;\n",
              "    }\n",
              "\n",
              "    .dataframe tbody tr th {\n",
              "        vertical-align: top;\n",
              "    }\n",
              "\n",
              "    .dataframe thead th {\n",
              "        text-align: right;\n",
              "    }\n",
              "</style>\n",
              "<table border=\"1\" class=\"dataframe\">\n",
              "  <thead>\n",
              "    <tr style=\"text-align: right;\">\n",
              "      <th></th>\n",
              "      <th>Original Values</th>\n",
              "      <th>Predictions of Random Forest Classifier</th>\n",
              "    </tr>\n",
              "  </thead>\n",
              "  <tbody>\n",
              "    <tr>\n",
              "      <th>0</th>\n",
              "      <td>0</td>\n",
              "      <td>0</td>\n",
              "    </tr>\n",
              "    <tr>\n",
              "      <th>1</th>\n",
              "      <td>0</td>\n",
              "      <td>0</td>\n",
              "    </tr>\n",
              "    <tr>\n",
              "      <th>2</th>\n",
              "      <td>0</td>\n",
              "      <td>0</td>\n",
              "    </tr>\n",
              "    <tr>\n",
              "      <th>3</th>\n",
              "      <td>0</td>\n",
              "      <td>0</td>\n",
              "    </tr>\n",
              "    <tr>\n",
              "      <th>4</th>\n",
              "      <td>0</td>\n",
              "      <td>0</td>\n",
              "    </tr>\n",
              "  </tbody>\n",
              "</table>\n",
              "</div>"
            ],
            "text/plain": [
              "   Original Values  Predictions of Random Forest Classifier\n",
              "0                0                                        0\n",
              "1                0                                        0\n",
              "2                0                                        0\n",
              "3                0                                        0\n",
              "4                0                                        0"
            ]
          },
          "metadata": {
            "tags": []
          },
          "execution_count": 37
        }
      ]
    },
    {
      "cell_type": "code",
      "metadata": {
        "execution": {
          "iopub.execute_input": "2021-05-02T23:24:03.570260Z",
          "iopub.status.busy": "2021-05-02T23:24:03.569665Z",
          "iopub.status.idle": "2021-05-02T23:24:03.580398Z",
          "shell.execute_reply": "2021-05-02T23:24:03.580873Z"
        },
        "papermill": {
          "duration": 0.05905,
          "end_time": "2021-05-02T23:24:03.581051",
          "exception": false,
          "start_time": "2021-05-02T23:24:03.522001",
          "status": "completed"
        },
        "tags": [],
        "colab": {
          "base_uri": "https://localhost:8080/"
        },
        "id": "asian-landscape",
        "outputId": "12eb270d-850b-495c-9263-f9ad25929de3"
      },
      "source": [
        "print(classification_report(y_test, random_predictions))\n",
        "print(confusion_matrix(y_test, random_predictions))\n",
        "print(accuracy_score(y_test, random_predictions))\n",
        "#Random Forest has the second best position after K Nearest Neighbors Algorithm"
      ],
      "id": "asian-landscape",
      "execution_count": 38,
      "outputs": [
        {
          "output_type": "stream",
          "text": [
            "              precision    recall  f1-score   support\n",
            "\n",
            "           0       0.94      0.90      0.92        68\n",
            "           1       0.80      0.88      0.84        32\n",
            "\n",
            "    accuracy                           0.89       100\n",
            "   macro avg       0.87      0.89      0.88       100\n",
            "weighted avg       0.89      0.89      0.89       100\n",
            "\n",
            "[[61  7]\n",
            " [ 4 28]]\n",
            "0.89\n"
          ],
          "name": "stdout"
        }
      ]
    },
    {
      "cell_type": "markdown",
      "metadata": {
        "papermill": {
          "duration": 0.04431,
          "end_time": "2021-05-02T23:24:03.669915",
          "exception": false,
          "start_time": "2021-05-02T23:24:03.625605",
          "status": "completed"
        },
        "tags": [],
        "id": "correct-haven"
      },
      "source": [
        "Visualising the Test set results"
      ],
      "id": "correct-haven"
    },
    {
      "cell_type": "code",
      "metadata": {
        "execution": {
          "iopub.execute_input": "2021-05-02T23:24:03.769060Z",
          "iopub.status.busy": "2021-05-02T23:24:03.767731Z",
          "iopub.status.idle": "2021-05-02T23:36:47.688168Z",
          "shell.execute_reply": "2021-05-02T23:36:47.688628Z"
        },
        "papermill": {
          "duration": 763.974769,
          "end_time": "2021-05-02T23:36:47.688927",
          "exception": false,
          "start_time": "2021-05-02T23:24:03.714158",
          "status": "completed"
        },
        "tags": [],
        "colab": {
          "base_uri": "https://localhost:8080/",
          "height": 352
        },
        "id": "standing-reminder",
        "outputId": "2e8d2529-9691-44a0-d260-088b4ddce433"
      },
      "source": [
        "X_set, y_set = ss.inverse_transform(X_test), y_test\n",
        "X1, X2 = np.meshgrid(np.arange(start = X_set[:, 0].min() - 10, stop = X_set[:, 0].max() + 10, step = 0.25),\n",
        "                     np.arange(start = X_set[:, 1].min() - 1000, stop = X_set[:, 1].max() + 1000, step = 0.25))\n",
        "plt.contourf(X1, X2, random.predict(ss.transform(np.array([X1.ravel(), X2.ravel()]).T)).reshape(X1.shape),\n",
        "             alpha = 0.75, cmap = ListedColormap(('red', 'green')))\n",
        "plt.xlim(X1.min(), X1.max())\n",
        "plt.ylim(X2.min(), X2.max())\n",
        "for i, j in enumerate(np.unique(y_set)):\n",
        "    plt.scatter(X_set[y_set == j, 0], X_set[y_set == j, 1], c = ListedColormap(('red', 'green'))(i), label = j)\n",
        "plt.title('Random Forest Classification (Test set)')\n",
        "#plt.xlabel('Age')\n",
        "#plt.ylabel('Estimated Salary')\n",
        "plt.legend"
      ],
      "id": "standing-reminder",
      "execution_count": 39,
      "outputs": [
        {
          "output_type": "stream",
          "text": [
            "*c* argument looks like a single numeric RGB or RGBA sequence, which should be avoided as value-mapping will have precedence in case its length matches with *x* & *y*.  Please use the *color* keyword-argument or provide a 2-D array with a single row if you intend to specify the same RGB or RGBA value for all points.\n",
            "*c* argument looks like a single numeric RGB or RGBA sequence, which should be avoided as value-mapping will have precedence in case its length matches with *x* & *y*.  Please use the *color* keyword-argument or provide a 2-D array with a single row if you intend to specify the same RGB or RGBA value for all points.\n"
          ],
          "name": "stderr"
        },
        {
          "output_type": "execute_result",
          "data": {
            "text/plain": [
              "<function matplotlib.pyplot.legend>"
            ]
          },
          "metadata": {
            "tags": []
          },
          "execution_count": 39
        },
        {
          "output_type": "display_data",
          "data": {
            "image/png": "[encoded data removed]",
            "text/plain": [
              "<Figure size 432x288 with 1 Axes>"
            ]
          },
          "metadata": {
            "tags": [],
            "needs_background": "light"
          }
        }
      ]
    },
    {
      "cell_type": "markdown",
      "metadata": {
        "papermill": {
          "duration": 0.046408,
          "end_time": "2021-05-02T23:36:47.781239",
          "exception": false,
          "start_time": "2021-05-02T23:36:47.734831",
          "status": "completed"
        },
        "tags": [],
        "id": "funny-standard"
      },
      "source": [
        "Visualising the Test set results"
      ],
      "id": "funny-standard"
    },
    {
      "cell_type": "markdown",
      "metadata": {
        "papermill": {
          "duration": 0.047582,
          "end_time": "2021-05-02T23:36:48.045265",
          "exception": false,
          "start_time": "2021-05-02T23:36:47.997683",
          "status": "completed"
        },
        "tags": [],
        "id": "consecutive-sudan"
      },
      "source": [
        "## 5. Naive Bayes Classifier"
      ],
      "id": "consecutive-sudan"
    },
    {
      "cell_type": "code",
      "metadata": {
        "execution": {
          "iopub.execute_input": "2021-05-02T23:36:48.144548Z",
          "iopub.status.busy": "2021-05-02T23:36:48.143769Z",
          "iopub.status.idle": "2021-05-02T23:36:48.151200Z",
          "shell.execute_reply": "2021-05-02T23:36:48.151684Z"
        },
        "papermill": {
          "duration": 0.060703,
          "end_time": "2021-05-02T23:36:48.151886",
          "exception": false,
          "start_time": "2021-05-02T23:36:48.091183",
          "status": "completed"
        },
        "tags": [],
        "id": "naval-adapter"
      },
      "source": [
        "from sklearn.naive_bayes import GaussianNB\n",
        "bayes=GaussianNB()\n",
        "bayes.fit(X_train, y_train)\n",
        "bayes_predictions=bayes.predict(X_test)"
      ],
      "id": "naval-adapter",
      "execution_count": 40,
      "outputs": []
    },
    {
      "cell_type": "code",
      "metadata": {
        "execution": {
          "iopub.execute_input": "2021-05-02T23:36:48.250068Z",
          "iopub.status.busy": "2021-05-02T23:36:48.249239Z",
          "iopub.status.idle": "2021-05-02T23:36:48.263361Z",
          "shell.execute_reply": "2021-05-02T23:36:48.263850Z"
        },
        "papermill": {
          "duration": 0.065278,
          "end_time": "2021-05-02T23:36:48.264020",
          "exception": false,
          "start_time": "2021-05-02T23:36:48.198742",
          "status": "completed"
        },
        "tags": [],
        "colab": {
          "base_uri": "https://localhost:8080/",
          "height": 204
        },
        "id": "sunrise-favorite",
        "outputId": "71199819-891b-4187-b118-aef2ec925b6b"
      },
      "source": [
        "df1=pd.DataFrame(y_test,columns=[\"Original Values\"])\n",
        "df2=pd.DataFrame(random_predictions,columns=[ \"Predictions of Naive Bayes Classifier\"])\n",
        "pd.concat([df1,df2],axis=1).head()"
      ],
      "id": "sunrise-favorite",
      "execution_count": 41,
      "outputs": [
        {
          "output_type": "execute_result",
          "data": {
            "text/html": [
              "<div>\n",
              "<style scoped>\n",
              "    .dataframe tbody tr th:only-of-type {\n",
              "        vertical-align: middle;\n",
              "    }\n",
              "\n",
              "    .dataframe tbody tr th {\n",
              "        vertical-align: top;\n",
              "    }\n",
              "\n",
              "    .dataframe thead th {\n",
              "        text-align: right;\n",
              "    }\n",
              "</style>\n",
              "<table border=\"1\" class=\"dataframe\">\n",
              "  <thead>\n",
              "    <tr style=\"text-align: right;\">\n",
              "      <th></th>\n",
              "      <th>Original Values</th>\n",
              "      <th>Predictions of Naive Bayes Classifier</th>\n",
              "    </tr>\n",
              "  </thead>\n",
              "  <tbody>\n",
              "    <tr>\n",
              "      <th>0</th>\n",
              "      <td>0</td>\n",
              "      <td>0</td>\n",
              "    </tr>\n",
              "    <tr>\n",
              "      <th>1</th>\n",
              "      <td>0</td>\n",
              "      <td>0</td>\n",
              "    </tr>\n",
              "    <tr>\n",
              "      <th>2</th>\n",
              "      <td>0</td>\n",
              "      <td>0</td>\n",
              "    </tr>\n",
              "    <tr>\n",
              "      <th>3</th>\n",
              "      <td>0</td>\n",
              "      <td>0</td>\n",
              "    </tr>\n",
              "    <tr>\n",
              "      <th>4</th>\n",
              "      <td>0</td>\n",
              "      <td>0</td>\n",
              "    </tr>\n",
              "  </tbody>\n",
              "</table>\n",
              "</div>"
            ],
            "text/plain": [
              "   Original Values  Predictions of Naive Bayes Classifier\n",
              "0                0                                      0\n",
              "1                0                                      0\n",
              "2                0                                      0\n",
              "3                0                                      0\n",
              "4                0                                      0"
            ]
          },
          "metadata": {
            "tags": []
          },
          "execution_count": 41
        }
      ]
    },
    {
      "cell_type": "code",
      "metadata": {
        "execution": {
          "iopub.execute_input": "2021-05-02T23:36:48.360852Z",
          "iopub.status.busy": "2021-05-02T23:36:48.360222Z",
          "iopub.status.idle": "2021-05-02T23:36:48.371074Z",
          "shell.execute_reply": "2021-05-02T23:36:48.371489Z"
        },
        "papermill": {
          "duration": 0.061031,
          "end_time": "2021-05-02T23:36:48.371658",
          "exception": false,
          "start_time": "2021-05-02T23:36:48.310627",
          "status": "completed"
        },
        "tags": [],
        "colab": {
          "base_uri": "https://localhost:8080/"
        },
        "id": "compressed-pension",
        "outputId": "58122923-db7b-4ccc-c690-bfce49029c8c"
      },
      "source": [
        "print(classification_report(y_test, bayes_predictions))\n",
        "print(confusion_matrix(y_test, bayes_predictions))\n",
        "print(accuracy_score(y_test, bayes_predictions))\n",
        "#Naive Bayes has better predictions than logistic regression, but worse than the restof algorithms"
      ],
      "id": "compressed-pension",
      "execution_count": 42,
      "outputs": [
        {
          "output_type": "stream",
          "text": [
            "              precision    recall  f1-score   support\n",
            "\n",
            "           0       0.90      0.96      0.93        68\n",
            "           1       0.89      0.78      0.83        32\n",
            "\n",
            "    accuracy                           0.90       100\n",
            "   macro avg       0.90      0.87      0.88       100\n",
            "weighted avg       0.90      0.90      0.90       100\n",
            "\n",
            "[[65  3]\n",
            " [ 7 25]]\n",
            "0.9\n"
          ],
          "name": "stdout"
        }
      ]
    },
    {
      "cell_type": "markdown",
      "metadata": {
        "papermill": {
          "duration": 0.04627,
          "end_time": "2021-05-02T23:36:48.464967",
          "exception": false,
          "start_time": "2021-05-02T23:36:48.418697",
          "status": "completed"
        },
        "tags": [],
        "id": "touched-spotlight"
      },
      "source": [
        "Visualising the Test set results"
      ],
      "id": "touched-spotlight"
    },
    {
      "cell_type": "code",
      "metadata": {
        "execution": {
          "iopub.execute_input": "2021-05-02T23:36:48.562984Z",
          "iopub.status.busy": "2021-05-02T23:36:48.562236Z",
          "iopub.status.idle": "2021-05-02T23:37:15.678269Z",
          "shell.execute_reply": "2021-05-02T23:37:15.677730Z"
        },
        "papermill": {
          "duration": 27.166836,
          "end_time": "2021-05-02T23:37:15.678413",
          "exception": false,
          "start_time": "2021-05-02T23:36:48.511577",
          "status": "completed"
        },
        "tags": [],
        "colab": {
          "base_uri": "https://localhost:8080/",
          "height": 352
        },
        "id": "northern-island",
        "outputId": "1bdd6c5c-39ca-473c-8a39-3d6762a99b0a"
      },
      "source": [
        "X_set, y_set = ss.inverse_transform(X_test), y_test\n",
        "X1, X2 = np.meshgrid(np.arange(start = X_set[:, 0].min() - 10, stop = X_set[:, 0].max() + 10, step = 0.25),\n",
        "                     np.arange(start = X_set[:, 1].min() - 1000, stop = X_set[:, 1].max() + 1000, step = 0.25))\n",
        "plt.contourf(X1, X2, bayes.predict(ss.transform(np.array([X1.ravel(), X2.ravel()]).T)).reshape(X1.shape),\n",
        "             alpha = 0.75, cmap = ListedColormap(('red', 'green')))\n",
        "plt.xlim(X1.min(), X1.max())\n",
        "plt.ylim(X2.min(), X2.max())\n",
        "for i, j in enumerate(np.unique(y_set)):\n",
        "    plt.scatter(X_set[y_set == j, 0], X_set[y_set == j, 1], c = ListedColormap(('red', 'green'))(i), label = j)\n",
        "plt.title('Random Forest Classification (Test set)')\n",
        "#plt.xlabel('Age')\n",
        "#plt.ylabel('Estimated Salary')\n",
        "plt.legend"
      ],
      "id": "northern-island",
      "execution_count": 43,
      "outputs": [
        {
          "output_type": "stream",
          "text": [
            "*c* argument looks like a single numeric RGB or RGBA sequence, which should be avoided as value-mapping will have precedence in case its length matches with *x* & *y*.  Please use the *color* keyword-argument or provide a 2-D array with a single row if you intend to specify the same RGB or RGBA value for all points.\n",
            "*c* argument looks like a single numeric RGB or RGBA sequence, which should be avoided as value-mapping will have precedence in case its length matches with *x* & *y*.  Please use the *color* keyword-argument or provide a 2-D array with a single row if you intend to specify the same RGB or RGBA value for all points.\n"
          ],
          "name": "stderr"
        },
        {
          "output_type": "execute_result",
          "data": {
            "text/plain": [
              "<function matplotlib.pyplot.legend>"
            ]
          },
          "metadata": {
            "tags": []
          },
          "execution_count": 43
        },
        {
          "output_type": "display_data",
          "data": {
            "image/png": "[encoded data removed]",
            "text/plain": [
              "<Figure size 432x288 with 1 Axes>"
            ]
          },
          "metadata": {
            "tags": [],
            "needs_background": "light"
          }
        }
      ]
    },
    {
      "cell_type": "markdown",
      "metadata": {
        "papermill": {
          "duration": 0.047563,
          "end_time": "2021-05-02T23:37:15.773975",
          "exception": false,
          "start_time": "2021-05-02T23:37:15.726412",
          "status": "completed"
        },
        "tags": [],
        "id": "silent-mississippi"
      },
      "source": [
        "## 6. Support Vector Machines"
      ],
      "id": "silent-mississippi"
    },
    {
      "cell_type": "code",
      "metadata": {
        "execution": {
          "iopub.execute_input": "2021-05-02T23:37:15.878371Z",
          "iopub.status.busy": "2021-05-02T23:37:15.877663Z",
          "iopub.status.idle": "2021-05-02T23:37:15.883451Z",
          "shell.execute_reply": "2021-05-02T23:37:15.884027Z"
        },
        "papermill": {
          "duration": 0.06122,
          "end_time": "2021-05-02T23:37:15.884208",
          "exception": false,
          "start_time": "2021-05-02T23:37:15.822988",
          "status": "completed"
        },
        "tags": [],
        "id": "relevant-variance"
      },
      "source": [
        "from sklearn.svm import SVC\n",
        "svclassifier= SVC(kernel=\"linear\")\n",
        "svclassifier.fit(X_train, y_train)\n",
        "svc_predictions= svclassifier.predict(X_test)"
      ],
      "id": "relevant-variance",
      "execution_count": 44,
      "outputs": []
    },
    {
      "cell_type": "code",
      "metadata": {
        "execution": {
          "iopub.execute_input": "2021-05-02T23:37:15.992274Z",
          "iopub.status.busy": "2021-05-02T23:37:15.991363Z",
          "iopub.status.idle": "2021-05-02T23:37:15.994990Z",
          "shell.execute_reply": "2021-05-02T23:37:15.995409Z"
        },
        "papermill": {
          "duration": 0.063163,
          "end_time": "2021-05-02T23:37:15.995579",
          "exception": false,
          "start_time": "2021-05-02T23:37:15.932416",
          "status": "completed"
        },
        "tags": [],
        "colab": {
          "base_uri": "https://localhost:8080/",
          "height": 204
        },
        "id": "organizational-railway",
        "outputId": "c74b05b8-7a67-4b13-fe9e-aace878d2e9d"
      },
      "source": [
        "df1=pd.DataFrame(y_test,columns=[\"Original Values\"])\n",
        "df2=pd.DataFrame(svc_predictions,columns=[ \"Predictions of Support Vector Machines\"])\n",
        "pd.concat([df1,df2],axis=1).head()"
      ],
      "id": "organizational-railway",
      "execution_count": 45,
      "outputs": [
        {
          "output_type": "execute_result",
          "data": {
            "text/html": [
              "<div>\n",
              "<style scoped>\n",
              "    .dataframe tbody tr th:only-of-type {\n",
              "        vertical-align: middle;\n",
              "    }\n",
              "\n",
              "    .dataframe tbody tr th {\n",
              "        vertical-align: top;\n",
              "    }\n",
              "\n",
              "    .dataframe thead th {\n",
              "        text-align: right;\n",
              "    }\n",
              "</style>\n",
              "<table border=\"1\" class=\"dataframe\">\n",
              "  <thead>\n",
              "    <tr style=\"text-align: right;\">\n",
              "      <th></th>\n",
              "      <th>Original Values</th>\n",
              "      <th>Predictions of Support Vector Machines</th>\n",
              "    </tr>\n",
              "  </thead>\n",
              "  <tbody>\n",
              "    <tr>\n",
              "      <th>0</th>\n",
              "      <td>0</td>\n",
              "      <td>0</td>\n",
              "    </tr>\n",
              "    <tr>\n",
              "      <th>1</th>\n",
              "      <td>0</td>\n",
              "      <td>0</td>\n",
              "    </tr>\n",
              "    <tr>\n",
              "      <th>2</th>\n",
              "      <td>0</td>\n",
              "      <td>0</td>\n",
              "    </tr>\n",
              "    <tr>\n",
              "      <th>3</th>\n",
              "      <td>0</td>\n",
              "      <td>0</td>\n",
              "    </tr>\n",
              "    <tr>\n",
              "      <th>4</th>\n",
              "      <td>0</td>\n",
              "      <td>0</td>\n",
              "    </tr>\n",
              "  </tbody>\n",
              "</table>\n",
              "</div>"
            ],
            "text/plain": [
              "   Original Values  Predictions of Support Vector Machines\n",
              "0                0                                       0\n",
              "1                0                                       0\n",
              "2                0                                       0\n",
              "3                0                                       0\n",
              "4                0                                       0"
            ]
          },
          "metadata": {
            "tags": []
          },
          "execution_count": 45
        }
      ]
    },
    {
      "cell_type": "code",
      "metadata": {
        "execution": {
          "iopub.execute_input": "2021-05-02T23:37:16.098938Z",
          "iopub.status.busy": "2021-05-02T23:37:16.098069Z",
          "iopub.status.idle": "2021-05-02T23:37:16.110524Z",
          "shell.execute_reply": "2021-05-02T23:37:16.109520Z"
        },
        "papermill": {
          "duration": 0.063975,
          "end_time": "2021-05-02T23:37:16.110718",
          "exception": false,
          "start_time": "2021-05-02T23:37:16.046743",
          "status": "completed"
        },
        "tags": [],
        "colab": {
          "base_uri": "https://localhost:8080/"
        },
        "id": "eleven-cause",
        "outputId": "27b0a4be-a218-4371-b5c0-f8405be3c1bd"
      },
      "source": [
        "print(classification_report(y_test, svc_predictions))\n",
        "print(confusion_matrix(y_test,svc_predictions))\n",
        "print(accuracy_score(y_test, svc_predictions))\n",
        "#Support Vector Machines has almost the same results as Naive Bayes"
      ],
      "id": "eleven-cause",
      "execution_count": 46,
      "outputs": [
        {
          "output_type": "stream",
          "text": [
            "              precision    recall  f1-score   support\n",
            "\n",
            "           0       0.89      0.97      0.93        68\n",
            "           1       0.92      0.75      0.83        32\n",
            "\n",
            "    accuracy                           0.90       100\n",
            "   macro avg       0.91      0.86      0.88       100\n",
            "weighted avg       0.90      0.90      0.90       100\n",
            "\n",
            "[[66  2]\n",
            " [ 8 24]]\n",
            "0.9\n"
          ],
          "name": "stdout"
        }
      ]
    },
    {
      "cell_type": "markdown",
      "metadata": {
        "papermill": {
          "duration": 0.048659,
          "end_time": "2021-05-02T23:37:16.209990",
          "exception": false,
          "start_time": "2021-05-02T23:37:16.161331",
          "status": "completed"
        },
        "tags": [],
        "id": "dress-worth"
      },
      "source": [
        "Visualization of Test Results"
      ],
      "id": "dress-worth"
    },
    {
      "cell_type": "code",
      "metadata": {
        "execution": {
          "iopub.execute_input": "2021-05-02T23:37:16.316955Z",
          "iopub.status.busy": "2021-05-02T23:37:16.316203Z",
          "iopub.status.idle": "2021-05-02T23:43:26.303976Z",
          "shell.execute_reply": "2021-05-02T23:43:26.304459Z"
        },
        "papermill": {
          "duration": 370.045613,
          "end_time": "2021-05-02T23:43:26.304638",
          "exception": false,
          "start_time": "2021-05-02T23:37:16.259025",
          "status": "completed"
        },
        "tags": [],
        "colab": {
          "base_uri": "https://localhost:8080/",
          "height": 335
        },
        "id": "sharing-problem",
        "outputId": "69c60a24-6ea2-4f2c-d0ce-5fc4c3ae5b5e"
      },
      "source": [
        "X_set, y_set = ss.inverse_transform(X_test), y_test\n",
        "X1, X2 = np.meshgrid(np.arange(start = X_set[:, 0].min() - 10, stop = X_set[:, 0].max() + 10, step = 0.25),\n",
        "                     np.arange(start = X_set[:, 1].min() - 1000, stop = X_set[:, 1].max() + 1000, step = 0.25))\n",
        "plt.contourf(X1, X2, svclassifier.predict(ss.transform(np.array([X1.ravel(), X2.ravel()]).T)).reshape(X1.shape),\n",
        "             alpha = 0.75, cmap = ListedColormap(('red', 'green')))\n",
        "plt.xlim(X1.min(), X1.max())\n",
        "plt.ylim(X2.min(), X2.max())\n",
        "for i, j in enumerate(np.unique(y_set)):\n",
        "    plt.scatter(X_set[y_set == j, 0], X_set[y_set == j, 1], c = ListedColormap(('red', 'green'))(i), label = j)\n",
        "plt.title('SVM (Test set)')\n",
        "#plt.xlabel('Age')\n",
        "#plt.ylabel('Estimated Salary')\n",
        "plt.legend()\n",
        "plt.show()"
      ],
      "id": "sharing-problem",
      "execution_count": 47,
      "outputs": [
        {
          "output_type": "stream",
          "text": [
            "*c* argument looks like a single numeric RGB or RGBA sequence, which should be avoided as value-mapping will have precedence in case its length matches with *x* & *y*.  Please use the *color* keyword-argument or provide a 2-D array with a single row if you intend to specify the same RGB or RGBA value for all points.\n",
            "*c* argument looks like a single numeric RGB or RGBA sequence, which should be avoided as value-mapping will have precedence in case its length matches with *x* & *y*.  Please use the *color* keyword-argument or provide a 2-D array with a single row if you intend to specify the same RGB or RGBA value for all points.\n"
          ],
          "name": "stderr"
        },
        {
          "output_type": "display_data",
          "data": {
            "image/png": "[encoded data removed]",
            "text/plain": [
              "<Figure size 432x288 with 1 Axes>"
            ]
          },
          "metadata": {
            "tags": [],
            "needs_background": "light"
          }
        }
      ]
    }
  ]
}